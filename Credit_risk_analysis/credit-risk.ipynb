{
 "cells": [
  {
   "cell_type": "code",
   "execution_count": 1,
   "metadata": {
    "_cell_guid": "b1076dfc-b9ad-4769-8c92-a6c4dae69d19",
    "_uuid": "8f2839f25d086af736a60e9eeb907d3b93b6e0e5",
    "execution": {
     "iopub.execute_input": "2021-02-18T18:23:41.636931Z",
     "iopub.status.busy": "2021-02-18T18:23:41.635904Z",
     "iopub.status.idle": "2021-02-18T18:23:41.652987Z",
     "shell.execute_reply": "2021-02-18T18:23:41.652227Z"
    },
    "papermill": {
     "duration": 0.063351,
     "end_time": "2021-02-18T18:23:41.653209",
     "exception": false,
     "start_time": "2021-02-18T18:23:41.589858",
     "status": "completed"
    },
    "tags": []
   },
   "outputs": [
    {
     "name": "stdout",
     "output_type": "stream",
     "text": [
      "/kaggle/input/german-credit-data-with-risk/german_credit_data.csv\n"
     ]
    }
   ],
   "source": [
    "# This Python 3 environment comes with many helpful analytics libraries installed\n",
    "# It is defined by the kaggle/python Docker image: https://github.com/kaggle/docker-python\n",
    "# For example, here's several helpful packages to load\n",
    "\n",
    "import numpy as np # linear algebra\n",
    "import pandas as pd # data processing, CSV file I/O (e.g. pd.read_csv)\n",
    "\n",
    "# Input data files are available in the read-only \"../input/\" directory\n",
    "# For example, running this (by clicking run or pressing Shift+Enter) will list all files under the input directory\n",
    "\n",
    "import os\n",
    "for dirname, _, filenames in os.walk('/kaggle/input'):\n",
    "    for filename in filenames:\n",
    "        print(os.path.join(dirname, filename))\n",
    "\n",
    "# You can write up to 20GB to the current directory (/kaggle/working/) that gets preserved as output when you create a version using \"Save & Run All\" \n",
    "# You can also write temporary files to /kaggle/temp/, but they won't be saved outside of the current session"
   ]
  },
  {
   "cell_type": "code",
   "execution_count": 2,
   "metadata": {
    "execution": {
     "iopub.execute_input": "2021-02-18T18:23:41.743717Z",
     "iopub.status.busy": "2021-02-18T18:23:41.742892Z",
     "iopub.status.idle": "2021-02-18T18:23:41.790356Z",
     "shell.execute_reply": "2021-02-18T18:23:41.790925Z"
    },
    "papermill": {
     "duration": 0.09206,
     "end_time": "2021-02-18T18:23:41.791115",
     "exception": false,
     "start_time": "2021-02-18T18:23:41.699055",
     "status": "completed"
    },
    "tags": []
   },
   "outputs": [
    {
     "name": "stdout",
     "output_type": "stream",
     "text": [
      "   Age     Sex  Job Housing Saving accounts Checking account  Credit amount  \\\n",
      "0   67    male    2     own            none           little           1169   \n",
      "1   22  female    2     own          little         moderate           5951   \n",
      "2   49    male    1     own          little             none           2096   \n",
      "3   45    male    2    free          little           little           7882   \n",
      "4   53    male    2    free          little           little           4870   \n",
      "\n",
      "   Duration              Purpose  Risk  \n",
      "0         6             radio/TV  good  \n",
      "1        48             radio/TV   bad  \n",
      "2        12            education  good  \n",
      "3        42  furniture/equipment  good  \n",
      "4        24                  car   bad  \n"
     ]
    }
   ],
   "source": [
    "data= pd.read_csv('../input/german-credit-data-with-risk/german_credit_data.csv',index_col = 0)\n",
    "data.fillna(value = 'none',inplace = True)\n",
    "print(data.head())\n",
    "df = data.copy()"
   ]
  },
  {
   "cell_type": "code",
   "execution_count": 3,
   "metadata": {
    "execution": {
     "iopub.execute_input": "2021-02-18T18:23:41.880929Z",
     "iopub.status.busy": "2021-02-18T18:23:41.880257Z",
     "iopub.status.idle": "2021-02-18T18:23:41.904984Z",
     "shell.execute_reply": "2021-02-18T18:23:41.904432Z"
    },
    "papermill": {
     "duration": 0.069772,
     "end_time": "2021-02-18T18:23:41.905130",
     "exception": false,
     "start_time": "2021-02-18T18:23:41.835358",
     "status": "completed"
    },
    "tags": []
   },
   "outputs": [
    {
     "data": {
      "text/html": [
       "<div>\n",
       "<style scoped>\n",
       "    .dataframe tbody tr th:only-of-type {\n",
       "        vertical-align: middle;\n",
       "    }\n",
       "\n",
       "    .dataframe tbody tr th {\n",
       "        vertical-align: top;\n",
       "    }\n",
       "\n",
       "    .dataframe thead th {\n",
       "        text-align: right;\n",
       "    }\n",
       "</style>\n",
       "<table border=\"1\" class=\"dataframe\">\n",
       "  <thead>\n",
       "    <tr style=\"text-align: right;\">\n",
       "      <th></th>\n",
       "      <th>Age</th>\n",
       "      <th>Sex</th>\n",
       "      <th>Job</th>\n",
       "      <th>Housing</th>\n",
       "      <th>Saving accounts</th>\n",
       "      <th>Checking account</th>\n",
       "      <th>Credit amount</th>\n",
       "      <th>Duration</th>\n",
       "      <th>Purpose</th>\n",
       "      <th>Risk</th>\n",
       "    </tr>\n",
       "  </thead>\n",
       "  <tbody>\n",
       "    <tr>\n",
       "      <th>0</th>\n",
       "      <td>67</td>\n",
       "      <td>male</td>\n",
       "      <td>2</td>\n",
       "      <td>own</td>\n",
       "      <td>none</td>\n",
       "      <td>little</td>\n",
       "      <td>1169</td>\n",
       "      <td>6</td>\n",
       "      <td>radio/TV</td>\n",
       "      <td>good</td>\n",
       "    </tr>\n",
       "    <tr>\n",
       "      <th>1</th>\n",
       "      <td>22</td>\n",
       "      <td>female</td>\n",
       "      <td>2</td>\n",
       "      <td>own</td>\n",
       "      <td>little</td>\n",
       "      <td>moderate</td>\n",
       "      <td>5951</td>\n",
       "      <td>48</td>\n",
       "      <td>radio/TV</td>\n",
       "      <td>bad</td>\n",
       "    </tr>\n",
       "    <tr>\n",
       "      <th>2</th>\n",
       "      <td>49</td>\n",
       "      <td>male</td>\n",
       "      <td>1</td>\n",
       "      <td>own</td>\n",
       "      <td>little</td>\n",
       "      <td>none</td>\n",
       "      <td>2096</td>\n",
       "      <td>12</td>\n",
       "      <td>education</td>\n",
       "      <td>good</td>\n",
       "    </tr>\n",
       "    <tr>\n",
       "      <th>3</th>\n",
       "      <td>45</td>\n",
       "      <td>male</td>\n",
       "      <td>2</td>\n",
       "      <td>free</td>\n",
       "      <td>little</td>\n",
       "      <td>little</td>\n",
       "      <td>7882</td>\n",
       "      <td>42</td>\n",
       "      <td>furniture/equipment</td>\n",
       "      <td>good</td>\n",
       "    </tr>\n",
       "    <tr>\n",
       "      <th>4</th>\n",
       "      <td>53</td>\n",
       "      <td>male</td>\n",
       "      <td>2</td>\n",
       "      <td>free</td>\n",
       "      <td>little</td>\n",
       "      <td>little</td>\n",
       "      <td>4870</td>\n",
       "      <td>24</td>\n",
       "      <td>car</td>\n",
       "      <td>bad</td>\n",
       "    </tr>\n",
       "    <tr>\n",
       "      <th>5</th>\n",
       "      <td>35</td>\n",
       "      <td>male</td>\n",
       "      <td>1</td>\n",
       "      <td>free</td>\n",
       "      <td>none</td>\n",
       "      <td>none</td>\n",
       "      <td>9055</td>\n",
       "      <td>36</td>\n",
       "      <td>education</td>\n",
       "      <td>good</td>\n",
       "    </tr>\n",
       "    <tr>\n",
       "      <th>6</th>\n",
       "      <td>53</td>\n",
       "      <td>male</td>\n",
       "      <td>2</td>\n",
       "      <td>own</td>\n",
       "      <td>quite rich</td>\n",
       "      <td>none</td>\n",
       "      <td>2835</td>\n",
       "      <td>24</td>\n",
       "      <td>furniture/equipment</td>\n",
       "      <td>good</td>\n",
       "    </tr>\n",
       "    <tr>\n",
       "      <th>7</th>\n",
       "      <td>35</td>\n",
       "      <td>male</td>\n",
       "      <td>3</td>\n",
       "      <td>rent</td>\n",
       "      <td>little</td>\n",
       "      <td>moderate</td>\n",
       "      <td>6948</td>\n",
       "      <td>36</td>\n",
       "      <td>car</td>\n",
       "      <td>good</td>\n",
       "    </tr>\n",
       "    <tr>\n",
       "      <th>8</th>\n",
       "      <td>61</td>\n",
       "      <td>male</td>\n",
       "      <td>1</td>\n",
       "      <td>own</td>\n",
       "      <td>rich</td>\n",
       "      <td>none</td>\n",
       "      <td>3059</td>\n",
       "      <td>12</td>\n",
       "      <td>radio/TV</td>\n",
       "      <td>good</td>\n",
       "    </tr>\n",
       "    <tr>\n",
       "      <th>9</th>\n",
       "      <td>28</td>\n",
       "      <td>male</td>\n",
       "      <td>3</td>\n",
       "      <td>own</td>\n",
       "      <td>little</td>\n",
       "      <td>moderate</td>\n",
       "      <td>5234</td>\n",
       "      <td>30</td>\n",
       "      <td>car</td>\n",
       "      <td>bad</td>\n",
       "    </tr>\n",
       "  </tbody>\n",
       "</table>\n",
       "</div>"
      ],
      "text/plain": [
       "   Age     Sex  Job Housing Saving accounts Checking account  Credit amount  \\\n",
       "0   67    male    2     own            none           little           1169   \n",
       "1   22  female    2     own          little         moderate           5951   \n",
       "2   49    male    1     own          little             none           2096   \n",
       "3   45    male    2    free          little           little           7882   \n",
       "4   53    male    2    free          little           little           4870   \n",
       "5   35    male    1    free            none             none           9055   \n",
       "6   53    male    2     own      quite rich             none           2835   \n",
       "7   35    male    3    rent          little         moderate           6948   \n",
       "8   61    male    1     own            rich             none           3059   \n",
       "9   28    male    3     own          little         moderate           5234   \n",
       "\n",
       "   Duration              Purpose  Risk  \n",
       "0         6             radio/TV  good  \n",
       "1        48             radio/TV   bad  \n",
       "2        12            education  good  \n",
       "3        42  furniture/equipment  good  \n",
       "4        24                  car   bad  \n",
       "5        36            education  good  \n",
       "6        24  furniture/equipment  good  \n",
       "7        36                  car  good  \n",
       "8        12             radio/TV  good  \n",
       "9        30                  car   bad  "
      ]
     },
     "execution_count": 3,
     "metadata": {},
     "output_type": "execute_result"
    }
   ],
   "source": [
    "df.head(10)"
   ]
  },
  {
   "cell_type": "markdown",
   "metadata": {
    "papermill": {
     "duration": 0.042361,
     "end_time": "2021-02-18T18:23:41.990576",
     "exception": false,
     "start_time": "2021-02-18T18:23:41.948215",
     "status": "completed"
    },
    "tags": []
   },
   "source": [
    "# Using just dummy variables"
   ]
  },
  {
   "cell_type": "code",
   "execution_count": 4,
   "metadata": {
    "execution": {
     "iopub.execute_input": "2021-02-18T18:23:42.083075Z",
     "iopub.status.busy": "2021-02-18T18:23:42.082170Z",
     "iopub.status.idle": "2021-02-18T18:23:42.088728Z",
     "shell.execute_reply": "2021-02-18T18:23:42.088116Z"
    },
    "papermill": {
     "duration": 0.055809,
     "end_time": "2021-02-18T18:23:42.088889",
     "exception": false,
     "start_time": "2021-02-18T18:23:42.033080",
     "status": "completed"
    },
    "tags": []
   },
   "outputs": [
    {
     "data": {
      "text/plain": [
       "2"
      ]
     },
     "execution_count": 4,
     "metadata": {},
     "output_type": "execute_result"
    }
   ],
   "source": [
    "df['Sex'].nunique()"
   ]
  },
  {
   "cell_type": "code",
   "execution_count": 5,
   "metadata": {
    "execution": {
     "iopub.execute_input": "2021-02-18T18:23:42.181183Z",
     "iopub.status.busy": "2021-02-18T18:23:42.180144Z",
     "iopub.status.idle": "2021-02-18T18:23:42.191812Z",
     "shell.execute_reply": "2021-02-18T18:23:42.190888Z"
    },
    "papermill": {
     "duration": 0.059799,
     "end_time": "2021-02-18T18:23:42.192000",
     "exception": false,
     "start_time": "2021-02-18T18:23:42.132201",
     "status": "completed"
    },
    "tags": []
   },
   "outputs": [],
   "source": [
    "df['Male'] = pd.get_dummies(df['Sex'],drop_first=True)"
   ]
  },
  {
   "cell_type": "code",
   "execution_count": 6,
   "metadata": {
    "execution": {
     "iopub.execute_input": "2021-02-18T18:23:42.284883Z",
     "iopub.status.busy": "2021-02-18T18:23:42.283971Z",
     "iopub.status.idle": "2021-02-18T18:23:42.288934Z",
     "shell.execute_reply": "2021-02-18T18:23:42.288312Z"
    },
    "papermill": {
     "duration": 0.053858,
     "end_time": "2021-02-18T18:23:42.289089",
     "exception": false,
     "start_time": "2021-02-18T18:23:42.235231",
     "status": "completed"
    },
    "tags": []
   },
   "outputs": [],
   "source": [
    "df.drop('Sex',axis=1,inplace=True )"
   ]
  },
  {
   "cell_type": "code",
   "execution_count": 7,
   "metadata": {
    "execution": {
     "iopub.execute_input": "2021-02-18T18:23:42.383054Z",
     "iopub.status.busy": "2021-02-18T18:23:42.381973Z",
     "iopub.status.idle": "2021-02-18T18:23:42.387724Z",
     "shell.execute_reply": "2021-02-18T18:23:42.387179Z"
    },
    "papermill": {
     "duration": 0.055215,
     "end_time": "2021-02-18T18:23:42.387887",
     "exception": false,
     "start_time": "2021-02-18T18:23:42.332672",
     "status": "completed"
    },
    "tags": []
   },
   "outputs": [
    {
     "data": {
      "text/plain": [
       "array(['own', 'free', 'rent'], dtype=object)"
      ]
     },
     "execution_count": 7,
     "metadata": {},
     "output_type": "execute_result"
    }
   ],
   "source": [
    "df['Housing'].unique()"
   ]
  },
  {
   "cell_type": "code",
   "execution_count": 8,
   "metadata": {
    "execution": {
     "iopub.execute_input": "2021-02-18T18:23:42.485543Z",
     "iopub.status.busy": "2021-02-18T18:23:42.484802Z",
     "iopub.status.idle": "2021-02-18T18:23:42.501769Z",
     "shell.execute_reply": "2021-02-18T18:23:42.502269Z"
    },
    "papermill": {
     "duration": 0.070679,
     "end_time": "2021-02-18T18:23:42.502473",
     "exception": false,
     "start_time": "2021-02-18T18:23:42.431794",
     "status": "completed"
    },
    "tags": []
   },
   "outputs": [
    {
     "data": {
      "text/html": [
       "<div>\n",
       "<style scoped>\n",
       "    .dataframe tbody tr th:only-of-type {\n",
       "        vertical-align: middle;\n",
       "    }\n",
       "\n",
       "    .dataframe tbody tr th {\n",
       "        vertical-align: top;\n",
       "    }\n",
       "\n",
       "    .dataframe thead th {\n",
       "        text-align: right;\n",
       "    }\n",
       "</style>\n",
       "<table border=\"1\" class=\"dataframe\">\n",
       "  <thead>\n",
       "    <tr style=\"text-align: right;\">\n",
       "      <th></th>\n",
       "      <th>Age</th>\n",
       "      <th>Job</th>\n",
       "      <th>Saving accounts</th>\n",
       "      <th>Checking account</th>\n",
       "      <th>Credit amount</th>\n",
       "      <th>Duration</th>\n",
       "      <th>Purpose</th>\n",
       "      <th>Risk</th>\n",
       "      <th>Male</th>\n",
       "      <th>Housing_own</th>\n",
       "      <th>Housing_rent</th>\n",
       "    </tr>\n",
       "  </thead>\n",
       "  <tbody>\n",
       "    <tr>\n",
       "      <th>0</th>\n",
       "      <td>67</td>\n",
       "      <td>2</td>\n",
       "      <td>none</td>\n",
       "      <td>little</td>\n",
       "      <td>1169</td>\n",
       "      <td>6</td>\n",
       "      <td>radio/TV</td>\n",
       "      <td>good</td>\n",
       "      <td>1</td>\n",
       "      <td>1</td>\n",
       "      <td>0</td>\n",
       "    </tr>\n",
       "    <tr>\n",
       "      <th>1</th>\n",
       "      <td>22</td>\n",
       "      <td>2</td>\n",
       "      <td>little</td>\n",
       "      <td>moderate</td>\n",
       "      <td>5951</td>\n",
       "      <td>48</td>\n",
       "      <td>radio/TV</td>\n",
       "      <td>bad</td>\n",
       "      <td>0</td>\n",
       "      <td>1</td>\n",
       "      <td>0</td>\n",
       "    </tr>\n",
       "    <tr>\n",
       "      <th>2</th>\n",
       "      <td>49</td>\n",
       "      <td>1</td>\n",
       "      <td>little</td>\n",
       "      <td>none</td>\n",
       "      <td>2096</td>\n",
       "      <td>12</td>\n",
       "      <td>education</td>\n",
       "      <td>good</td>\n",
       "      <td>1</td>\n",
       "      <td>1</td>\n",
       "      <td>0</td>\n",
       "    </tr>\n",
       "    <tr>\n",
       "      <th>3</th>\n",
       "      <td>45</td>\n",
       "      <td>2</td>\n",
       "      <td>little</td>\n",
       "      <td>little</td>\n",
       "      <td>7882</td>\n",
       "      <td>42</td>\n",
       "      <td>furniture/equipment</td>\n",
       "      <td>good</td>\n",
       "      <td>1</td>\n",
       "      <td>0</td>\n",
       "      <td>0</td>\n",
       "    </tr>\n",
       "    <tr>\n",
       "      <th>4</th>\n",
       "      <td>53</td>\n",
       "      <td>2</td>\n",
       "      <td>little</td>\n",
       "      <td>little</td>\n",
       "      <td>4870</td>\n",
       "      <td>24</td>\n",
       "      <td>car</td>\n",
       "      <td>bad</td>\n",
       "      <td>1</td>\n",
       "      <td>0</td>\n",
       "      <td>0</td>\n",
       "    </tr>\n",
       "  </tbody>\n",
       "</table>\n",
       "</div>"
      ],
      "text/plain": [
       "   Age  Job Saving accounts Checking account  Credit amount  Duration  \\\n",
       "0   67    2            none           little           1169         6   \n",
       "1   22    2          little         moderate           5951        48   \n",
       "2   49    1          little             none           2096        12   \n",
       "3   45    2          little           little           7882        42   \n",
       "4   53    2          little           little           4870        24   \n",
       "\n",
       "               Purpose  Risk  Male  Housing_own  Housing_rent  \n",
       "0             radio/TV  good     1            1             0  \n",
       "1             radio/TV   bad     0            1             0  \n",
       "2            education  good     1            1             0  \n",
       "3  furniture/equipment  good     1            0             0  \n",
       "4                  car   bad     1            0             0  "
      ]
     },
     "execution_count": 8,
     "metadata": {},
     "output_type": "execute_result"
    }
   ],
   "source": [
    "df['Housing_own']=pd.get_dummies(df['Housing'],drop_first=True).iloc[:,0]\n",
    "df['Housing_rent']=pd.get_dummies(df['Housing'],drop_first=True).iloc[:,1]\n",
    "df.drop('Housing',axis=1,inplace=True)\n",
    "df.head()\n"
   ]
  },
  {
   "cell_type": "code",
   "execution_count": 9,
   "metadata": {
    "execution": {
     "iopub.execute_input": "2021-02-18T18:23:42.596558Z",
     "iopub.status.busy": "2021-02-18T18:23:42.595484Z",
     "iopub.status.idle": "2021-02-18T18:23:42.611929Z",
     "shell.execute_reply": "2021-02-18T18:23:42.611032Z"
    },
    "papermill": {
     "duration": 0.06471,
     "end_time": "2021-02-18T18:23:42.612088",
     "exception": false,
     "start_time": "2021-02-18T18:23:42.547378",
     "status": "completed"
    },
    "tags": []
   },
   "outputs": [
    {
     "data": {
      "text/html": [
       "<div>\n",
       "<style scoped>\n",
       "    .dataframe tbody tr th:only-of-type {\n",
       "        vertical-align: middle;\n",
       "    }\n",
       "\n",
       "    .dataframe tbody tr th {\n",
       "        vertical-align: top;\n",
       "    }\n",
       "\n",
       "    .dataframe thead th {\n",
       "        text-align: right;\n",
       "    }\n",
       "</style>\n",
       "<table border=\"1\" class=\"dataframe\">\n",
       "  <thead>\n",
       "    <tr style=\"text-align: right;\">\n",
       "      <th></th>\n",
       "      <th>little</th>\n",
       "      <th>moderate</th>\n",
       "      <th>none</th>\n",
       "      <th>quite rich</th>\n",
       "      <th>rich</th>\n",
       "    </tr>\n",
       "  </thead>\n",
       "  <tbody>\n",
       "    <tr>\n",
       "      <th>0</th>\n",
       "      <td>0</td>\n",
       "      <td>0</td>\n",
       "      <td>1</td>\n",
       "      <td>0</td>\n",
       "      <td>0</td>\n",
       "    </tr>\n",
       "    <tr>\n",
       "      <th>1</th>\n",
       "      <td>1</td>\n",
       "      <td>0</td>\n",
       "      <td>0</td>\n",
       "      <td>0</td>\n",
       "      <td>0</td>\n",
       "    </tr>\n",
       "    <tr>\n",
       "      <th>2</th>\n",
       "      <td>1</td>\n",
       "      <td>0</td>\n",
       "      <td>0</td>\n",
       "      <td>0</td>\n",
       "      <td>0</td>\n",
       "    </tr>\n",
       "    <tr>\n",
       "      <th>3</th>\n",
       "      <td>1</td>\n",
       "      <td>0</td>\n",
       "      <td>0</td>\n",
       "      <td>0</td>\n",
       "      <td>0</td>\n",
       "    </tr>\n",
       "    <tr>\n",
       "      <th>4</th>\n",
       "      <td>1</td>\n",
       "      <td>0</td>\n",
       "      <td>0</td>\n",
       "      <td>0</td>\n",
       "      <td>0</td>\n",
       "    </tr>\n",
       "    <tr>\n",
       "      <th>...</th>\n",
       "      <td>...</td>\n",
       "      <td>...</td>\n",
       "      <td>...</td>\n",
       "      <td>...</td>\n",
       "      <td>...</td>\n",
       "    </tr>\n",
       "    <tr>\n",
       "      <th>995</th>\n",
       "      <td>1</td>\n",
       "      <td>0</td>\n",
       "      <td>0</td>\n",
       "      <td>0</td>\n",
       "      <td>0</td>\n",
       "    </tr>\n",
       "    <tr>\n",
       "      <th>996</th>\n",
       "      <td>1</td>\n",
       "      <td>0</td>\n",
       "      <td>0</td>\n",
       "      <td>0</td>\n",
       "      <td>0</td>\n",
       "    </tr>\n",
       "    <tr>\n",
       "      <th>997</th>\n",
       "      <td>1</td>\n",
       "      <td>0</td>\n",
       "      <td>0</td>\n",
       "      <td>0</td>\n",
       "      <td>0</td>\n",
       "    </tr>\n",
       "    <tr>\n",
       "      <th>998</th>\n",
       "      <td>1</td>\n",
       "      <td>0</td>\n",
       "      <td>0</td>\n",
       "      <td>0</td>\n",
       "      <td>0</td>\n",
       "    </tr>\n",
       "    <tr>\n",
       "      <th>999</th>\n",
       "      <td>0</td>\n",
       "      <td>1</td>\n",
       "      <td>0</td>\n",
       "      <td>0</td>\n",
       "      <td>0</td>\n",
       "    </tr>\n",
       "  </tbody>\n",
       "</table>\n",
       "<p>1000 rows × 5 columns</p>\n",
       "</div>"
      ],
      "text/plain": [
       "     little  moderate  none  quite rich  rich\n",
       "0         0         0     1           0     0\n",
       "1         1         0     0           0     0\n",
       "2         1         0     0           0     0\n",
       "3         1         0     0           0     0\n",
       "4         1         0     0           0     0\n",
       "..      ...       ...   ...         ...   ...\n",
       "995       1         0     0           0     0\n",
       "996       1         0     0           0     0\n",
       "997       1         0     0           0     0\n",
       "998       1         0     0           0     0\n",
       "999       0         1     0           0     0\n",
       "\n",
       "[1000 rows x 5 columns]"
      ]
     },
     "execution_count": 9,
     "metadata": {},
     "output_type": "execute_result"
    }
   ],
   "source": [
    "pd.get_dummies(df['Saving accounts'],drop_first=False,dummy_na=False)"
   ]
  },
  {
   "cell_type": "code",
   "execution_count": 10,
   "metadata": {
    "execution": {
     "iopub.execute_input": "2021-02-18T18:23:42.712286Z",
     "iopub.status.busy": "2021-02-18T18:23:42.710826Z",
     "iopub.status.idle": "2021-02-18T18:23:42.732653Z",
     "shell.execute_reply": "2021-02-18T18:23:42.733177Z"
    },
    "papermill": {
     "duration": 0.076663,
     "end_time": "2021-02-18T18:23:42.733361",
     "exception": false,
     "start_time": "2021-02-18T18:23:42.656698",
     "status": "completed"
    },
    "tags": []
   },
   "outputs": [
    {
     "data": {
      "text/html": [
       "<div>\n",
       "<style scoped>\n",
       "    .dataframe tbody tr th:only-of-type {\n",
       "        vertical-align: middle;\n",
       "    }\n",
       "\n",
       "    .dataframe tbody tr th {\n",
       "        vertical-align: top;\n",
       "    }\n",
       "\n",
       "    .dataframe thead th {\n",
       "        text-align: right;\n",
       "    }\n",
       "</style>\n",
       "<table border=\"1\" class=\"dataframe\">\n",
       "  <thead>\n",
       "    <tr style=\"text-align: right;\">\n",
       "      <th></th>\n",
       "      <th>Age</th>\n",
       "      <th>Job</th>\n",
       "      <th>Checking account</th>\n",
       "      <th>Credit amount</th>\n",
       "      <th>Duration</th>\n",
       "      <th>Purpose</th>\n",
       "      <th>Risk</th>\n",
       "      <th>Male</th>\n",
       "      <th>Housing_own</th>\n",
       "      <th>Housing_rent</th>\n",
       "      <th>Savings_little</th>\n",
       "      <th>Savings_moderate</th>\n",
       "      <th>Savings_quite_rich</th>\n",
       "      <th>Savings_rich</th>\n",
       "    </tr>\n",
       "  </thead>\n",
       "  <tbody>\n",
       "    <tr>\n",
       "      <th>0</th>\n",
       "      <td>67</td>\n",
       "      <td>2</td>\n",
       "      <td>little</td>\n",
       "      <td>1169</td>\n",
       "      <td>6</td>\n",
       "      <td>radio/TV</td>\n",
       "      <td>good</td>\n",
       "      <td>1</td>\n",
       "      <td>1</td>\n",
       "      <td>0</td>\n",
       "      <td>0</td>\n",
       "      <td>0</td>\n",
       "      <td>0</td>\n",
       "      <td>0</td>\n",
       "    </tr>\n",
       "    <tr>\n",
       "      <th>1</th>\n",
       "      <td>22</td>\n",
       "      <td>2</td>\n",
       "      <td>moderate</td>\n",
       "      <td>5951</td>\n",
       "      <td>48</td>\n",
       "      <td>radio/TV</td>\n",
       "      <td>bad</td>\n",
       "      <td>0</td>\n",
       "      <td>1</td>\n",
       "      <td>0</td>\n",
       "      <td>1</td>\n",
       "      <td>0</td>\n",
       "      <td>0</td>\n",
       "      <td>0</td>\n",
       "    </tr>\n",
       "    <tr>\n",
       "      <th>2</th>\n",
       "      <td>49</td>\n",
       "      <td>1</td>\n",
       "      <td>none</td>\n",
       "      <td>2096</td>\n",
       "      <td>12</td>\n",
       "      <td>education</td>\n",
       "      <td>good</td>\n",
       "      <td>1</td>\n",
       "      <td>1</td>\n",
       "      <td>0</td>\n",
       "      <td>1</td>\n",
       "      <td>0</td>\n",
       "      <td>0</td>\n",
       "      <td>0</td>\n",
       "    </tr>\n",
       "    <tr>\n",
       "      <th>3</th>\n",
       "      <td>45</td>\n",
       "      <td>2</td>\n",
       "      <td>little</td>\n",
       "      <td>7882</td>\n",
       "      <td>42</td>\n",
       "      <td>furniture/equipment</td>\n",
       "      <td>good</td>\n",
       "      <td>1</td>\n",
       "      <td>0</td>\n",
       "      <td>0</td>\n",
       "      <td>1</td>\n",
       "      <td>0</td>\n",
       "      <td>0</td>\n",
       "      <td>0</td>\n",
       "    </tr>\n",
       "    <tr>\n",
       "      <th>4</th>\n",
       "      <td>53</td>\n",
       "      <td>2</td>\n",
       "      <td>little</td>\n",
       "      <td>4870</td>\n",
       "      <td>24</td>\n",
       "      <td>car</td>\n",
       "      <td>bad</td>\n",
       "      <td>1</td>\n",
       "      <td>0</td>\n",
       "      <td>0</td>\n",
       "      <td>1</td>\n",
       "      <td>0</td>\n",
       "      <td>0</td>\n",
       "      <td>0</td>\n",
       "    </tr>\n",
       "  </tbody>\n",
       "</table>\n",
       "</div>"
      ],
      "text/plain": [
       "   Age  Job Checking account  Credit amount  Duration              Purpose  \\\n",
       "0   67    2           little           1169         6             radio/TV   \n",
       "1   22    2         moderate           5951        48             radio/TV   \n",
       "2   49    1             none           2096        12            education   \n",
       "3   45    2           little           7882        42  furniture/equipment   \n",
       "4   53    2           little           4870        24                  car   \n",
       "\n",
       "   Risk  Male  Housing_own  Housing_rent  Savings_little  Savings_moderate  \\\n",
       "0  good     1            1             0               0                 0   \n",
       "1   bad     0            1             0               1                 0   \n",
       "2  good     1            1             0               1                 0   \n",
       "3  good     1            0             0               1                 0   \n",
       "4   bad     1            0             0               1                 0   \n",
       "\n",
       "   Savings_quite_rich  Savings_rich  \n",
       "0                   0             0  \n",
       "1                   0             0  \n",
       "2                   0             0  \n",
       "3                   0             0  \n",
       "4                   0             0  "
      ]
     },
     "execution_count": 10,
     "metadata": {},
     "output_type": "execute_result"
    }
   ],
   "source": [
    "df['Savings_little']=pd.get_dummies(df['Saving accounts'],drop_first=False,dummy_na=False).iloc[:,0]\n",
    "df['Savings_moderate']=pd.get_dummies(df['Saving accounts'],drop_first=False,dummy_na=False).iloc[:,1]\n",
    "df['Savings_quite_rich']=pd.get_dummies(df['Saving accounts'],drop_first=False,dummy_na=False).iloc[:,3]\n",
    "df['Savings_rich']=pd.get_dummies(df['Saving accounts'],drop_first=False,dummy_na=False).iloc[:,4]\n",
    "\n",
    "df.drop('Saving accounts',axis=1,inplace=True)\n",
    "df.head()"
   ]
  },
  {
   "cell_type": "code",
   "execution_count": 11,
   "metadata": {
    "execution": {
     "iopub.execute_input": "2021-02-18T18:23:42.840339Z",
     "iopub.status.busy": "2021-02-18T18:23:42.832439Z",
     "iopub.status.idle": "2021-02-18T18:23:42.845673Z",
     "shell.execute_reply": "2021-02-18T18:23:42.845004Z"
    },
    "papermill": {
     "duration": 0.066882,
     "end_time": "2021-02-18T18:23:42.845845",
     "exception": false,
     "start_time": "2021-02-18T18:23:42.778963",
     "status": "completed"
    },
    "tags": []
   },
   "outputs": [
    {
     "data": {
      "text/html": [
       "<div>\n",
       "<style scoped>\n",
       "    .dataframe tbody tr th:only-of-type {\n",
       "        vertical-align: middle;\n",
       "    }\n",
       "\n",
       "    .dataframe tbody tr th {\n",
       "        vertical-align: top;\n",
       "    }\n",
       "\n",
       "    .dataframe thead th {\n",
       "        text-align: right;\n",
       "    }\n",
       "</style>\n",
       "<table border=\"1\" class=\"dataframe\">\n",
       "  <thead>\n",
       "    <tr style=\"text-align: right;\">\n",
       "      <th></th>\n",
       "      <th>little</th>\n",
       "      <th>moderate</th>\n",
       "      <th>none</th>\n",
       "      <th>rich</th>\n",
       "    </tr>\n",
       "  </thead>\n",
       "  <tbody>\n",
       "    <tr>\n",
       "      <th>0</th>\n",
       "      <td>1</td>\n",
       "      <td>0</td>\n",
       "      <td>0</td>\n",
       "      <td>0</td>\n",
       "    </tr>\n",
       "    <tr>\n",
       "      <th>1</th>\n",
       "      <td>0</td>\n",
       "      <td>1</td>\n",
       "      <td>0</td>\n",
       "      <td>0</td>\n",
       "    </tr>\n",
       "    <tr>\n",
       "      <th>2</th>\n",
       "      <td>0</td>\n",
       "      <td>0</td>\n",
       "      <td>1</td>\n",
       "      <td>0</td>\n",
       "    </tr>\n",
       "    <tr>\n",
       "      <th>3</th>\n",
       "      <td>1</td>\n",
       "      <td>0</td>\n",
       "      <td>0</td>\n",
       "      <td>0</td>\n",
       "    </tr>\n",
       "    <tr>\n",
       "      <th>4</th>\n",
       "      <td>1</td>\n",
       "      <td>0</td>\n",
       "      <td>0</td>\n",
       "      <td>0</td>\n",
       "    </tr>\n",
       "    <tr>\n",
       "      <th>...</th>\n",
       "      <td>...</td>\n",
       "      <td>...</td>\n",
       "      <td>...</td>\n",
       "      <td>...</td>\n",
       "    </tr>\n",
       "    <tr>\n",
       "      <th>995</th>\n",
       "      <td>0</td>\n",
       "      <td>0</td>\n",
       "      <td>1</td>\n",
       "      <td>0</td>\n",
       "    </tr>\n",
       "    <tr>\n",
       "      <th>996</th>\n",
       "      <td>1</td>\n",
       "      <td>0</td>\n",
       "      <td>0</td>\n",
       "      <td>0</td>\n",
       "    </tr>\n",
       "    <tr>\n",
       "      <th>997</th>\n",
       "      <td>0</td>\n",
       "      <td>0</td>\n",
       "      <td>1</td>\n",
       "      <td>0</td>\n",
       "    </tr>\n",
       "    <tr>\n",
       "      <th>998</th>\n",
       "      <td>1</td>\n",
       "      <td>0</td>\n",
       "      <td>0</td>\n",
       "      <td>0</td>\n",
       "    </tr>\n",
       "    <tr>\n",
       "      <th>999</th>\n",
       "      <td>0</td>\n",
       "      <td>1</td>\n",
       "      <td>0</td>\n",
       "      <td>0</td>\n",
       "    </tr>\n",
       "  </tbody>\n",
       "</table>\n",
       "<p>1000 rows × 4 columns</p>\n",
       "</div>"
      ],
      "text/plain": [
       "     little  moderate  none  rich\n",
       "0         1         0     0     0\n",
       "1         0         1     0     0\n",
       "2         0         0     1     0\n",
       "3         1         0     0     0\n",
       "4         1         0     0     0\n",
       "..      ...       ...   ...   ...\n",
       "995       0         0     1     0\n",
       "996       1         0     0     0\n",
       "997       0         0     1     0\n",
       "998       1         0     0     0\n",
       "999       0         1     0     0\n",
       "\n",
       "[1000 rows x 4 columns]"
      ]
     },
     "execution_count": 11,
     "metadata": {},
     "output_type": "execute_result"
    }
   ],
   "source": [
    "pd.get_dummies(df['Checking account'],drop_first=False,dummy_na=False)"
   ]
  },
  {
   "cell_type": "code",
   "execution_count": 12,
   "metadata": {
    "execution": {
     "iopub.execute_input": "2021-02-18T18:23:42.949973Z",
     "iopub.status.busy": "2021-02-18T18:23:42.949161Z",
     "iopub.status.idle": "2021-02-18T18:23:42.969905Z",
     "shell.execute_reply": "2021-02-18T18:23:42.970423Z"
    },
    "papermill": {
     "duration": 0.078048,
     "end_time": "2021-02-18T18:23:42.970626",
     "exception": false,
     "start_time": "2021-02-18T18:23:42.892578",
     "status": "completed"
    },
    "tags": []
   },
   "outputs": [
    {
     "data": {
      "text/html": [
       "<div>\n",
       "<style scoped>\n",
       "    .dataframe tbody tr th:only-of-type {\n",
       "        vertical-align: middle;\n",
       "    }\n",
       "\n",
       "    .dataframe tbody tr th {\n",
       "        vertical-align: top;\n",
       "    }\n",
       "\n",
       "    .dataframe thead th {\n",
       "        text-align: right;\n",
       "    }\n",
       "</style>\n",
       "<table border=\"1\" class=\"dataframe\">\n",
       "  <thead>\n",
       "    <tr style=\"text-align: right;\">\n",
       "      <th></th>\n",
       "      <th>Age</th>\n",
       "      <th>Job</th>\n",
       "      <th>Credit amount</th>\n",
       "      <th>Duration</th>\n",
       "      <th>Purpose</th>\n",
       "      <th>Risk</th>\n",
       "      <th>Male</th>\n",
       "      <th>Housing_own</th>\n",
       "      <th>Housing_rent</th>\n",
       "      <th>Savings_little</th>\n",
       "      <th>Savings_moderate</th>\n",
       "      <th>Savings_quite_rich</th>\n",
       "      <th>Savings_rich</th>\n",
       "      <th>Checking_little</th>\n",
       "      <th>Checking_moderate</th>\n",
       "      <th>Checking_rich</th>\n",
       "    </tr>\n",
       "  </thead>\n",
       "  <tbody>\n",
       "    <tr>\n",
       "      <th>0</th>\n",
       "      <td>67</td>\n",
       "      <td>2</td>\n",
       "      <td>1169</td>\n",
       "      <td>6</td>\n",
       "      <td>radio/TV</td>\n",
       "      <td>good</td>\n",
       "      <td>1</td>\n",
       "      <td>1</td>\n",
       "      <td>0</td>\n",
       "      <td>0</td>\n",
       "      <td>0</td>\n",
       "      <td>0</td>\n",
       "      <td>0</td>\n",
       "      <td>1</td>\n",
       "      <td>0</td>\n",
       "      <td>0</td>\n",
       "    </tr>\n",
       "    <tr>\n",
       "      <th>1</th>\n",
       "      <td>22</td>\n",
       "      <td>2</td>\n",
       "      <td>5951</td>\n",
       "      <td>48</td>\n",
       "      <td>radio/TV</td>\n",
       "      <td>bad</td>\n",
       "      <td>0</td>\n",
       "      <td>1</td>\n",
       "      <td>0</td>\n",
       "      <td>1</td>\n",
       "      <td>0</td>\n",
       "      <td>0</td>\n",
       "      <td>0</td>\n",
       "      <td>0</td>\n",
       "      <td>1</td>\n",
       "      <td>0</td>\n",
       "    </tr>\n",
       "    <tr>\n",
       "      <th>2</th>\n",
       "      <td>49</td>\n",
       "      <td>1</td>\n",
       "      <td>2096</td>\n",
       "      <td>12</td>\n",
       "      <td>education</td>\n",
       "      <td>good</td>\n",
       "      <td>1</td>\n",
       "      <td>1</td>\n",
       "      <td>0</td>\n",
       "      <td>1</td>\n",
       "      <td>0</td>\n",
       "      <td>0</td>\n",
       "      <td>0</td>\n",
       "      <td>0</td>\n",
       "      <td>0</td>\n",
       "      <td>0</td>\n",
       "    </tr>\n",
       "    <tr>\n",
       "      <th>3</th>\n",
       "      <td>45</td>\n",
       "      <td>2</td>\n",
       "      <td>7882</td>\n",
       "      <td>42</td>\n",
       "      <td>furniture/equipment</td>\n",
       "      <td>good</td>\n",
       "      <td>1</td>\n",
       "      <td>0</td>\n",
       "      <td>0</td>\n",
       "      <td>1</td>\n",
       "      <td>0</td>\n",
       "      <td>0</td>\n",
       "      <td>0</td>\n",
       "      <td>1</td>\n",
       "      <td>0</td>\n",
       "      <td>0</td>\n",
       "    </tr>\n",
       "    <tr>\n",
       "      <th>4</th>\n",
       "      <td>53</td>\n",
       "      <td>2</td>\n",
       "      <td>4870</td>\n",
       "      <td>24</td>\n",
       "      <td>car</td>\n",
       "      <td>bad</td>\n",
       "      <td>1</td>\n",
       "      <td>0</td>\n",
       "      <td>0</td>\n",
       "      <td>1</td>\n",
       "      <td>0</td>\n",
       "      <td>0</td>\n",
       "      <td>0</td>\n",
       "      <td>1</td>\n",
       "      <td>0</td>\n",
       "      <td>0</td>\n",
       "    </tr>\n",
       "  </tbody>\n",
       "</table>\n",
       "</div>"
      ],
      "text/plain": [
       "   Age  Job  Credit amount  Duration              Purpose  Risk  Male  \\\n",
       "0   67    2           1169         6             radio/TV  good     1   \n",
       "1   22    2           5951        48             radio/TV   bad     0   \n",
       "2   49    1           2096        12            education  good     1   \n",
       "3   45    2           7882        42  furniture/equipment  good     1   \n",
       "4   53    2           4870        24                  car   bad     1   \n",
       "\n",
       "   Housing_own  Housing_rent  Savings_little  Savings_moderate  \\\n",
       "0            1             0               0                 0   \n",
       "1            1             0               1                 0   \n",
       "2            1             0               1                 0   \n",
       "3            0             0               1                 0   \n",
       "4            0             0               1                 0   \n",
       "\n",
       "   Savings_quite_rich  Savings_rich  Checking_little  Checking_moderate  \\\n",
       "0                   0             0                1                  0   \n",
       "1                   0             0                0                  1   \n",
       "2                   0             0                0                  0   \n",
       "3                   0             0                1                  0   \n",
       "4                   0             0                1                  0   \n",
       "\n",
       "   Checking_rich  \n",
       "0              0  \n",
       "1              0  \n",
       "2              0  \n",
       "3              0  \n",
       "4              0  "
      ]
     },
     "execution_count": 12,
     "metadata": {},
     "output_type": "execute_result"
    }
   ],
   "source": [
    "df['Checking_little']=pd.get_dummies(df['Checking account'],drop_first=False,dummy_na=True).iloc[:,0]\n",
    "df['Checking_moderate']=pd.get_dummies(df['Checking account'],drop_first=False,dummy_na=True).iloc[:,1]\n",
    "df['Checking_rich']=pd.get_dummies(df['Checking account'],drop_first=False,dummy_na=True).iloc[:,3]\n",
    "\n",
    "df.drop('Checking account',axis=1,inplace=True)\n",
    "df.head()"
   ]
  },
  {
   "cell_type": "code",
   "execution_count": 13,
   "metadata": {
    "execution": {
     "iopub.execute_input": "2021-02-18T18:23:43.081885Z",
     "iopub.status.busy": "2021-02-18T18:23:43.080746Z",
     "iopub.status.idle": "2021-02-18T18:23:43.086025Z",
     "shell.execute_reply": "2021-02-18T18:23:43.085382Z"
    },
    "papermill": {
     "duration": 0.068269,
     "end_time": "2021-02-18T18:23:43.086193",
     "exception": false,
     "start_time": "2021-02-18T18:23:43.017924",
     "status": "completed"
    },
    "tags": []
   },
   "outputs": [
    {
     "data": {
      "text/html": [
       "<div>\n",
       "<style scoped>\n",
       "    .dataframe tbody tr th:only-of-type {\n",
       "        vertical-align: middle;\n",
       "    }\n",
       "\n",
       "    .dataframe tbody tr th {\n",
       "        vertical-align: top;\n",
       "    }\n",
       "\n",
       "    .dataframe thead th {\n",
       "        text-align: right;\n",
       "    }\n",
       "</style>\n",
       "<table border=\"1\" class=\"dataframe\">\n",
       "  <thead>\n",
       "    <tr style=\"text-align: right;\">\n",
       "      <th></th>\n",
       "      <th>business</th>\n",
       "      <th>car</th>\n",
       "      <th>domestic appliances</th>\n",
       "      <th>education</th>\n",
       "      <th>furniture/equipment</th>\n",
       "      <th>radio/TV</th>\n",
       "      <th>repairs</th>\n",
       "      <th>vacation/others</th>\n",
       "    </tr>\n",
       "  </thead>\n",
       "  <tbody>\n",
       "    <tr>\n",
       "      <th>0</th>\n",
       "      <td>0</td>\n",
       "      <td>0</td>\n",
       "      <td>0</td>\n",
       "      <td>0</td>\n",
       "      <td>0</td>\n",
       "      <td>1</td>\n",
       "      <td>0</td>\n",
       "      <td>0</td>\n",
       "    </tr>\n",
       "    <tr>\n",
       "      <th>1</th>\n",
       "      <td>0</td>\n",
       "      <td>0</td>\n",
       "      <td>0</td>\n",
       "      <td>0</td>\n",
       "      <td>0</td>\n",
       "      <td>1</td>\n",
       "      <td>0</td>\n",
       "      <td>0</td>\n",
       "    </tr>\n",
       "    <tr>\n",
       "      <th>2</th>\n",
       "      <td>0</td>\n",
       "      <td>0</td>\n",
       "      <td>0</td>\n",
       "      <td>1</td>\n",
       "      <td>0</td>\n",
       "      <td>0</td>\n",
       "      <td>0</td>\n",
       "      <td>0</td>\n",
       "    </tr>\n",
       "    <tr>\n",
       "      <th>3</th>\n",
       "      <td>0</td>\n",
       "      <td>0</td>\n",
       "      <td>0</td>\n",
       "      <td>0</td>\n",
       "      <td>1</td>\n",
       "      <td>0</td>\n",
       "      <td>0</td>\n",
       "      <td>0</td>\n",
       "    </tr>\n",
       "    <tr>\n",
       "      <th>4</th>\n",
       "      <td>0</td>\n",
       "      <td>1</td>\n",
       "      <td>0</td>\n",
       "      <td>0</td>\n",
       "      <td>0</td>\n",
       "      <td>0</td>\n",
       "      <td>0</td>\n",
       "      <td>0</td>\n",
       "    </tr>\n",
       "    <tr>\n",
       "      <th>...</th>\n",
       "      <td>...</td>\n",
       "      <td>...</td>\n",
       "      <td>...</td>\n",
       "      <td>...</td>\n",
       "      <td>...</td>\n",
       "      <td>...</td>\n",
       "      <td>...</td>\n",
       "      <td>...</td>\n",
       "    </tr>\n",
       "    <tr>\n",
       "      <th>995</th>\n",
       "      <td>0</td>\n",
       "      <td>0</td>\n",
       "      <td>0</td>\n",
       "      <td>0</td>\n",
       "      <td>1</td>\n",
       "      <td>0</td>\n",
       "      <td>0</td>\n",
       "      <td>0</td>\n",
       "    </tr>\n",
       "    <tr>\n",
       "      <th>996</th>\n",
       "      <td>0</td>\n",
       "      <td>1</td>\n",
       "      <td>0</td>\n",
       "      <td>0</td>\n",
       "      <td>0</td>\n",
       "      <td>0</td>\n",
       "      <td>0</td>\n",
       "      <td>0</td>\n",
       "    </tr>\n",
       "    <tr>\n",
       "      <th>997</th>\n",
       "      <td>0</td>\n",
       "      <td>0</td>\n",
       "      <td>0</td>\n",
       "      <td>0</td>\n",
       "      <td>0</td>\n",
       "      <td>1</td>\n",
       "      <td>0</td>\n",
       "      <td>0</td>\n",
       "    </tr>\n",
       "    <tr>\n",
       "      <th>998</th>\n",
       "      <td>0</td>\n",
       "      <td>0</td>\n",
       "      <td>0</td>\n",
       "      <td>0</td>\n",
       "      <td>0</td>\n",
       "      <td>1</td>\n",
       "      <td>0</td>\n",
       "      <td>0</td>\n",
       "    </tr>\n",
       "    <tr>\n",
       "      <th>999</th>\n",
       "      <td>0</td>\n",
       "      <td>1</td>\n",
       "      <td>0</td>\n",
       "      <td>0</td>\n",
       "      <td>0</td>\n",
       "      <td>0</td>\n",
       "      <td>0</td>\n",
       "      <td>0</td>\n",
       "    </tr>\n",
       "  </tbody>\n",
       "</table>\n",
       "<p>1000 rows × 8 columns</p>\n",
       "</div>"
      ],
      "text/plain": [
       "     business  car  domestic appliances  education  furniture/equipment  \\\n",
       "0           0    0                    0          0                    0   \n",
       "1           0    0                    0          0                    0   \n",
       "2           0    0                    0          1                    0   \n",
       "3           0    0                    0          0                    1   \n",
       "4           0    1                    0          0                    0   \n",
       "..        ...  ...                  ...        ...                  ...   \n",
       "995         0    0                    0          0                    1   \n",
       "996         0    1                    0          0                    0   \n",
       "997         0    0                    0          0                    0   \n",
       "998         0    0                    0          0                    0   \n",
       "999         0    1                    0          0                    0   \n",
       "\n",
       "     radio/TV  repairs  vacation/others  \n",
       "0           1        0                0  \n",
       "1           1        0                0  \n",
       "2           0        0                0  \n",
       "3           0        0                0  \n",
       "4           0        0                0  \n",
       "..        ...      ...              ...  \n",
       "995         0        0                0  \n",
       "996         0        0                0  \n",
       "997         1        0                0  \n",
       "998         1        0                0  \n",
       "999         0        0                0  \n",
       "\n",
       "[1000 rows x 8 columns]"
      ]
     },
     "execution_count": 13,
     "metadata": {},
     "output_type": "execute_result"
    }
   ],
   "source": [
    "pd.get_dummies(df['Purpose'],drop_first=False,dummy_na=False)"
   ]
  },
  {
   "cell_type": "code",
   "execution_count": 14,
   "metadata": {
    "execution": {
     "iopub.execute_input": "2021-02-18T18:23:43.197468Z",
     "iopub.status.busy": "2021-02-18T18:23:43.196716Z",
     "iopub.status.idle": "2021-02-18T18:23:43.231795Z",
     "shell.execute_reply": "2021-02-18T18:23:43.231044Z"
    },
    "papermill": {
     "duration": 0.096811,
     "end_time": "2021-02-18T18:23:43.231957",
     "exception": false,
     "start_time": "2021-02-18T18:23:43.135146",
     "status": "completed"
    },
    "tags": []
   },
   "outputs": [
    {
     "data": {
      "text/html": [
       "<div>\n",
       "<style scoped>\n",
       "    .dataframe tbody tr th:only-of-type {\n",
       "        vertical-align: middle;\n",
       "    }\n",
       "\n",
       "    .dataframe tbody tr th {\n",
       "        vertical-align: top;\n",
       "    }\n",
       "\n",
       "    .dataframe thead th {\n",
       "        text-align: right;\n",
       "    }\n",
       "</style>\n",
       "<table border=\"1\" class=\"dataframe\">\n",
       "  <thead>\n",
       "    <tr style=\"text-align: right;\">\n",
       "      <th></th>\n",
       "      <th>Age</th>\n",
       "      <th>Job</th>\n",
       "      <th>Credit amount</th>\n",
       "      <th>Duration</th>\n",
       "      <th>Risk</th>\n",
       "      <th>Male</th>\n",
       "      <th>Housing_own</th>\n",
       "      <th>Housing_rent</th>\n",
       "      <th>Savings_little</th>\n",
       "      <th>Savings_moderate</th>\n",
       "      <th>...</th>\n",
       "      <th>Checking_moderate</th>\n",
       "      <th>Checking_rich</th>\n",
       "      <th>Purpose_business</th>\n",
       "      <th>Purpose_car</th>\n",
       "      <th>Purpose_domestic</th>\n",
       "      <th>Purpose_education</th>\n",
       "      <th>Purpose_furniture</th>\n",
       "      <th>Purpose_radiotv</th>\n",
       "      <th>Purpose_repairs</th>\n",
       "      <th>Purpose_vacationothers</th>\n",
       "    </tr>\n",
       "  </thead>\n",
       "  <tbody>\n",
       "    <tr>\n",
       "      <th>0</th>\n",
       "      <td>67</td>\n",
       "      <td>2</td>\n",
       "      <td>1169</td>\n",
       "      <td>6</td>\n",
       "      <td>good</td>\n",
       "      <td>1</td>\n",
       "      <td>1</td>\n",
       "      <td>0</td>\n",
       "      <td>0</td>\n",
       "      <td>0</td>\n",
       "      <td>...</td>\n",
       "      <td>0</td>\n",
       "      <td>0</td>\n",
       "      <td>0</td>\n",
       "      <td>0</td>\n",
       "      <td>0</td>\n",
       "      <td>0</td>\n",
       "      <td>1</td>\n",
       "      <td>0</td>\n",
       "      <td>0</td>\n",
       "      <td>0</td>\n",
       "    </tr>\n",
       "    <tr>\n",
       "      <th>1</th>\n",
       "      <td>22</td>\n",
       "      <td>2</td>\n",
       "      <td>5951</td>\n",
       "      <td>48</td>\n",
       "      <td>bad</td>\n",
       "      <td>0</td>\n",
       "      <td>1</td>\n",
       "      <td>0</td>\n",
       "      <td>1</td>\n",
       "      <td>0</td>\n",
       "      <td>...</td>\n",
       "      <td>1</td>\n",
       "      <td>0</td>\n",
       "      <td>0</td>\n",
       "      <td>0</td>\n",
       "      <td>0</td>\n",
       "      <td>0</td>\n",
       "      <td>1</td>\n",
       "      <td>0</td>\n",
       "      <td>0</td>\n",
       "      <td>0</td>\n",
       "    </tr>\n",
       "    <tr>\n",
       "      <th>2</th>\n",
       "      <td>49</td>\n",
       "      <td>1</td>\n",
       "      <td>2096</td>\n",
       "      <td>12</td>\n",
       "      <td>good</td>\n",
       "      <td>1</td>\n",
       "      <td>1</td>\n",
       "      <td>0</td>\n",
       "      <td>1</td>\n",
       "      <td>0</td>\n",
       "      <td>...</td>\n",
       "      <td>0</td>\n",
       "      <td>0</td>\n",
       "      <td>0</td>\n",
       "      <td>0</td>\n",
       "      <td>1</td>\n",
       "      <td>0</td>\n",
       "      <td>0</td>\n",
       "      <td>0</td>\n",
       "      <td>0</td>\n",
       "      <td>0</td>\n",
       "    </tr>\n",
       "    <tr>\n",
       "      <th>3</th>\n",
       "      <td>45</td>\n",
       "      <td>2</td>\n",
       "      <td>7882</td>\n",
       "      <td>42</td>\n",
       "      <td>good</td>\n",
       "      <td>1</td>\n",
       "      <td>0</td>\n",
       "      <td>0</td>\n",
       "      <td>1</td>\n",
       "      <td>0</td>\n",
       "      <td>...</td>\n",
       "      <td>0</td>\n",
       "      <td>0</td>\n",
       "      <td>0</td>\n",
       "      <td>0</td>\n",
       "      <td>0</td>\n",
       "      <td>1</td>\n",
       "      <td>0</td>\n",
       "      <td>0</td>\n",
       "      <td>0</td>\n",
       "      <td>0</td>\n",
       "    </tr>\n",
       "    <tr>\n",
       "      <th>4</th>\n",
       "      <td>53</td>\n",
       "      <td>2</td>\n",
       "      <td>4870</td>\n",
       "      <td>24</td>\n",
       "      <td>bad</td>\n",
       "      <td>1</td>\n",
       "      <td>0</td>\n",
       "      <td>0</td>\n",
       "      <td>1</td>\n",
       "      <td>0</td>\n",
       "      <td>...</td>\n",
       "      <td>0</td>\n",
       "      <td>0</td>\n",
       "      <td>1</td>\n",
       "      <td>0</td>\n",
       "      <td>0</td>\n",
       "      <td>0</td>\n",
       "      <td>0</td>\n",
       "      <td>0</td>\n",
       "      <td>0</td>\n",
       "      <td>0</td>\n",
       "    </tr>\n",
       "  </tbody>\n",
       "</table>\n",
       "<p>5 rows × 23 columns</p>\n",
       "</div>"
      ],
      "text/plain": [
       "   Age  Job  Credit amount  Duration  Risk  Male  Housing_own  Housing_rent  \\\n",
       "0   67    2           1169         6  good     1            1             0   \n",
       "1   22    2           5951        48   bad     0            1             0   \n",
       "2   49    1           2096        12  good     1            1             0   \n",
       "3   45    2           7882        42  good     1            0             0   \n",
       "4   53    2           4870        24   bad     1            0             0   \n",
       "\n",
       "   Savings_little  Savings_moderate  ...  Checking_moderate  Checking_rich  \\\n",
       "0               0                 0  ...                  0              0   \n",
       "1               1                 0  ...                  1              0   \n",
       "2               1                 0  ...                  0              0   \n",
       "3               1                 0  ...                  0              0   \n",
       "4               1                 0  ...                  0              0   \n",
       "\n",
       "   Purpose_business  Purpose_car  Purpose_domestic  Purpose_education  \\\n",
       "0                 0            0                 0                  0   \n",
       "1                 0            0                 0                  0   \n",
       "2                 0            0                 1                  0   \n",
       "3                 0            0                 0                  1   \n",
       "4                 1            0                 0                  0   \n",
       "\n",
       "   Purpose_furniture  Purpose_radiotv  Purpose_repairs  Purpose_vacationothers  \n",
       "0                  1                0                0                       0  \n",
       "1                  1                0                0                       0  \n",
       "2                  0                0                0                       0  \n",
       "3                  0                0                0                       0  \n",
       "4                  0                0                0                       0  \n",
       "\n",
       "[5 rows x 23 columns]"
      ]
     },
     "execution_count": 14,
     "metadata": {},
     "output_type": "execute_result"
    }
   ],
   "source": [
    "df['Purpose_business']=pd.get_dummies(df['Purpose'],drop_first=True,dummy_na=True).iloc[:,0]\n",
    "df['Purpose_car']=pd.get_dummies(df['Purpose'],drop_first=True,dummy_na=True).iloc[:,1]\n",
    "df['Purpose_domestic']=pd.get_dummies(df['Purpose'],drop_first=True,dummy_na=True).iloc[:,2]\n",
    "df['Purpose_education']=pd.get_dummies(df['Purpose'],drop_first=True,dummy_na=True).iloc[:,3]\n",
    "df['Purpose_furniture']=pd.get_dummies(df['Purpose'],drop_first=True,dummy_na=True).iloc[:,4]\n",
    "df['Purpose_radiotv']=pd.get_dummies(df['Purpose'],drop_first=True,dummy_na=True).iloc[:,5]\n",
    "df['Purpose_repairs']=pd.get_dummies(df['Purpose'],drop_first=True,dummy_na=True).iloc[:,6]\n",
    "df['Purpose_vacationothers']=pd.get_dummies(df['Purpose'],drop_first=True,dummy_na=True).iloc[:,6]\n",
    "\n",
    "df.drop('Purpose',axis=1,inplace=True)\n",
    "df.head()"
   ]
  },
  {
   "cell_type": "code",
   "execution_count": 15,
   "metadata": {
    "execution": {
     "iopub.execute_input": "2021-02-18T18:23:43.336268Z",
     "iopub.status.busy": "2021-02-18T18:23:43.335032Z",
     "iopub.status.idle": "2021-02-18T18:23:43.340694Z",
     "shell.execute_reply": "2021-02-18T18:23:43.340056Z"
    },
    "papermill": {
     "duration": 0.059671,
     "end_time": "2021-02-18T18:23:43.340831",
     "exception": false,
     "start_time": "2021-02-18T18:23:43.281160",
     "status": "completed"
    },
    "tags": []
   },
   "outputs": [
    {
     "data": {
      "text/plain": [
       "2"
      ]
     },
     "execution_count": 15,
     "metadata": {},
     "output_type": "execute_result"
    }
   ],
   "source": [
    "df['Risk'].nunique()"
   ]
  },
  {
   "cell_type": "code",
   "execution_count": 16,
   "metadata": {
    "execution": {
     "iopub.execute_input": "2021-02-18T18:23:43.448170Z",
     "iopub.status.busy": "2021-02-18T18:23:43.444503Z",
     "iopub.status.idle": "2021-02-18T18:23:43.468363Z",
     "shell.execute_reply": "2021-02-18T18:23:43.467756Z"
    },
    "papermill": {
     "duration": 0.078183,
     "end_time": "2021-02-18T18:23:43.468534",
     "exception": false,
     "start_time": "2021-02-18T18:23:43.390351",
     "status": "completed"
    },
    "tags": []
   },
   "outputs": [
    {
     "data": {
      "text/html": [
       "<div>\n",
       "<style scoped>\n",
       "    .dataframe tbody tr th:only-of-type {\n",
       "        vertical-align: middle;\n",
       "    }\n",
       "\n",
       "    .dataframe tbody tr th {\n",
       "        vertical-align: top;\n",
       "    }\n",
       "\n",
       "    .dataframe thead th {\n",
       "        text-align: right;\n",
       "    }\n",
       "</style>\n",
       "<table border=\"1\" class=\"dataframe\">\n",
       "  <thead>\n",
       "    <tr style=\"text-align: right;\">\n",
       "      <th></th>\n",
       "      <th>Age</th>\n",
       "      <th>Job</th>\n",
       "      <th>Credit amount</th>\n",
       "      <th>Duration</th>\n",
       "      <th>Male</th>\n",
       "      <th>Housing_own</th>\n",
       "      <th>Housing_rent</th>\n",
       "      <th>Savings_little</th>\n",
       "      <th>Savings_moderate</th>\n",
       "      <th>Savings_quite_rich</th>\n",
       "      <th>...</th>\n",
       "      <th>Checking_rich</th>\n",
       "      <th>Purpose_business</th>\n",
       "      <th>Purpose_car</th>\n",
       "      <th>Purpose_domestic</th>\n",
       "      <th>Purpose_education</th>\n",
       "      <th>Purpose_furniture</th>\n",
       "      <th>Purpose_radiotv</th>\n",
       "      <th>Purpose_repairs</th>\n",
       "      <th>Purpose_vacationothers</th>\n",
       "      <th>Risk_good</th>\n",
       "    </tr>\n",
       "  </thead>\n",
       "  <tbody>\n",
       "    <tr>\n",
       "      <th>0</th>\n",
       "      <td>67</td>\n",
       "      <td>2</td>\n",
       "      <td>1169</td>\n",
       "      <td>6</td>\n",
       "      <td>1</td>\n",
       "      <td>1</td>\n",
       "      <td>0</td>\n",
       "      <td>0</td>\n",
       "      <td>0</td>\n",
       "      <td>0</td>\n",
       "      <td>...</td>\n",
       "      <td>0</td>\n",
       "      <td>0</td>\n",
       "      <td>0</td>\n",
       "      <td>0</td>\n",
       "      <td>0</td>\n",
       "      <td>1</td>\n",
       "      <td>0</td>\n",
       "      <td>0</td>\n",
       "      <td>0</td>\n",
       "      <td>1</td>\n",
       "    </tr>\n",
       "    <tr>\n",
       "      <th>1</th>\n",
       "      <td>22</td>\n",
       "      <td>2</td>\n",
       "      <td>5951</td>\n",
       "      <td>48</td>\n",
       "      <td>0</td>\n",
       "      <td>1</td>\n",
       "      <td>0</td>\n",
       "      <td>1</td>\n",
       "      <td>0</td>\n",
       "      <td>0</td>\n",
       "      <td>...</td>\n",
       "      <td>0</td>\n",
       "      <td>0</td>\n",
       "      <td>0</td>\n",
       "      <td>0</td>\n",
       "      <td>0</td>\n",
       "      <td>1</td>\n",
       "      <td>0</td>\n",
       "      <td>0</td>\n",
       "      <td>0</td>\n",
       "      <td>0</td>\n",
       "    </tr>\n",
       "    <tr>\n",
       "      <th>2</th>\n",
       "      <td>49</td>\n",
       "      <td>1</td>\n",
       "      <td>2096</td>\n",
       "      <td>12</td>\n",
       "      <td>1</td>\n",
       "      <td>1</td>\n",
       "      <td>0</td>\n",
       "      <td>1</td>\n",
       "      <td>0</td>\n",
       "      <td>0</td>\n",
       "      <td>...</td>\n",
       "      <td>0</td>\n",
       "      <td>0</td>\n",
       "      <td>0</td>\n",
       "      <td>1</td>\n",
       "      <td>0</td>\n",
       "      <td>0</td>\n",
       "      <td>0</td>\n",
       "      <td>0</td>\n",
       "      <td>0</td>\n",
       "      <td>1</td>\n",
       "    </tr>\n",
       "    <tr>\n",
       "      <th>3</th>\n",
       "      <td>45</td>\n",
       "      <td>2</td>\n",
       "      <td>7882</td>\n",
       "      <td>42</td>\n",
       "      <td>1</td>\n",
       "      <td>0</td>\n",
       "      <td>0</td>\n",
       "      <td>1</td>\n",
       "      <td>0</td>\n",
       "      <td>0</td>\n",
       "      <td>...</td>\n",
       "      <td>0</td>\n",
       "      <td>0</td>\n",
       "      <td>0</td>\n",
       "      <td>0</td>\n",
       "      <td>1</td>\n",
       "      <td>0</td>\n",
       "      <td>0</td>\n",
       "      <td>0</td>\n",
       "      <td>0</td>\n",
       "      <td>1</td>\n",
       "    </tr>\n",
       "    <tr>\n",
       "      <th>4</th>\n",
       "      <td>53</td>\n",
       "      <td>2</td>\n",
       "      <td>4870</td>\n",
       "      <td>24</td>\n",
       "      <td>1</td>\n",
       "      <td>0</td>\n",
       "      <td>0</td>\n",
       "      <td>1</td>\n",
       "      <td>0</td>\n",
       "      <td>0</td>\n",
       "      <td>...</td>\n",
       "      <td>0</td>\n",
       "      <td>1</td>\n",
       "      <td>0</td>\n",
       "      <td>0</td>\n",
       "      <td>0</td>\n",
       "      <td>0</td>\n",
       "      <td>0</td>\n",
       "      <td>0</td>\n",
       "      <td>0</td>\n",
       "      <td>0</td>\n",
       "    </tr>\n",
       "  </tbody>\n",
       "</table>\n",
       "<p>5 rows × 23 columns</p>\n",
       "</div>"
      ],
      "text/plain": [
       "   Age  Job  Credit amount  Duration  Male  Housing_own  Housing_rent  \\\n",
       "0   67    2           1169         6     1            1             0   \n",
       "1   22    2           5951        48     0            1             0   \n",
       "2   49    1           2096        12     1            1             0   \n",
       "3   45    2           7882        42     1            0             0   \n",
       "4   53    2           4870        24     1            0             0   \n",
       "\n",
       "   Savings_little  Savings_moderate  Savings_quite_rich  ...  Checking_rich  \\\n",
       "0               0                 0                   0  ...              0   \n",
       "1               1                 0                   0  ...              0   \n",
       "2               1                 0                   0  ...              0   \n",
       "3               1                 0                   0  ...              0   \n",
       "4               1                 0                   0  ...              0   \n",
       "\n",
       "   Purpose_business  Purpose_car  Purpose_domestic  Purpose_education  \\\n",
       "0                 0            0                 0                  0   \n",
       "1                 0            0                 0                  0   \n",
       "2                 0            0                 1                  0   \n",
       "3                 0            0                 0                  1   \n",
       "4                 1            0                 0                  0   \n",
       "\n",
       "   Purpose_furniture  Purpose_radiotv  Purpose_repairs  \\\n",
       "0                  1                0                0   \n",
       "1                  1                0                0   \n",
       "2                  0                0                0   \n",
       "3                  0                0                0   \n",
       "4                  0                0                0   \n",
       "\n",
       "   Purpose_vacationothers  Risk_good  \n",
       "0                       0          1  \n",
       "1                       0          0  \n",
       "2                       0          1  \n",
       "3                       0          1  \n",
       "4                       0          0  \n",
       "\n",
       "[5 rows x 23 columns]"
      ]
     },
     "execution_count": 16,
     "metadata": {},
     "output_type": "execute_result"
    }
   ],
   "source": [
    "df['Risk_good'] = pd.get_dummies(df['Risk'],drop_first=True)\n",
    "df.drop('Risk',axis=1,inplace=True )\n",
    "df.head()"
   ]
  },
  {
   "cell_type": "code",
   "execution_count": 17,
   "metadata": {
    "execution": {
     "iopub.execute_input": "2021-02-18T18:23:43.576369Z",
     "iopub.status.busy": "2021-02-18T18:23:43.575535Z",
     "iopub.status.idle": "2021-02-18T18:23:44.512320Z",
     "shell.execute_reply": "2021-02-18T18:23:44.511707Z"
    },
    "papermill": {
     "duration": 0.992797,
     "end_time": "2021-02-18T18:23:44.512495",
     "exception": false,
     "start_time": "2021-02-18T18:23:43.519698",
     "status": "completed"
    },
    "tags": []
   },
   "outputs": [],
   "source": [
    "import seaborn as sns\n",
    "import matplotlib.pyplot as plt\n",
    "%matplotlib inline"
   ]
  },
  {
   "cell_type": "code",
   "execution_count": 18,
   "metadata": {
    "execution": {
     "iopub.execute_input": "2021-02-18T18:23:44.620427Z",
     "iopub.status.busy": "2021-02-18T18:23:44.619732Z",
     "iopub.status.idle": "2021-02-18T18:23:45.493238Z",
     "shell.execute_reply": "2021-02-18T18:23:45.492648Z"
    },
    "papermill": {
     "duration": 0.930126,
     "end_time": "2021-02-18T18:23:45.493384",
     "exception": false,
     "start_time": "2021-02-18T18:23:44.563258",
     "status": "completed"
    },
    "tags": []
   },
   "outputs": [
    {
     "data": {
      "text/plain": [
       "<AxesSubplot:>"
      ]
     },
     "execution_count": 18,
     "metadata": {},
     "output_type": "execute_result"
    },
    {
     "data": {
      "image/png": "[encoded data removed]",
      "text/plain": [
       "<Figure size 864x576 with 2 Axes>"
      ]
     },
     "metadata": {
      "needs_background": "light"
     },
     "output_type": "display_data"
    }
   ],
   "source": [
    "plt.figure(figsize = (12,8))\n",
    "sns.heatmap(df.corr(),cmap='coolwarm')"
   ]
  },
  {
   "cell_type": "code",
   "execution_count": 19,
   "metadata": {
    "execution": {
     "iopub.execute_input": "2021-02-18T18:23:45.601440Z",
     "iopub.status.busy": "2021-02-18T18:23:45.600560Z",
     "iopub.status.idle": "2021-02-18T18:23:45.918488Z",
     "shell.execute_reply": "2021-02-18T18:23:45.917832Z"
    },
    "papermill": {
     "duration": 0.373875,
     "end_time": "2021-02-18T18:23:45.918711",
     "exception": false,
     "start_time": "2021-02-18T18:23:45.544836",
     "status": "completed"
    },
    "tags": []
   },
   "outputs": [],
   "source": [
    "from sklearn.model_selection import train_test_split\n",
    "from sklearn.preprocessing import MinMaxScaler"
   ]
  },
  {
   "cell_type": "code",
   "execution_count": 20,
   "metadata": {
    "execution": {
     "iopub.execute_input": "2021-02-18T18:23:46.028380Z",
     "iopub.status.busy": "2021-02-18T18:23:46.027531Z",
     "iopub.status.idle": "2021-02-18T18:23:46.031801Z",
     "shell.execute_reply": "2021-02-18T18:23:46.031228Z"
    },
    "papermill": {
     "duration": 0.061307,
     "end_time": "2021-02-18T18:23:46.031963",
     "exception": false,
     "start_time": "2021-02-18T18:23:45.970656",
     "status": "completed"
    },
    "tags": []
   },
   "outputs": [],
   "source": [
    "X = df.drop('Risk_good',axis=1)\n",
    "y =df['Risk_good']\n"
   ]
  },
  {
   "cell_type": "code",
   "execution_count": 21,
   "metadata": {
    "execution": {
     "iopub.execute_input": "2021-02-18T18:23:46.143245Z",
     "iopub.status.busy": "2021-02-18T18:23:46.142323Z",
     "iopub.status.idle": "2021-02-18T18:23:46.147511Z",
     "shell.execute_reply": "2021-02-18T18:23:46.146928Z"
    },
    "papermill": {
     "duration": 0.063394,
     "end_time": "2021-02-18T18:23:46.147654",
     "exception": false,
     "start_time": "2021-02-18T18:23:46.084260",
     "status": "completed"
    },
    "tags": []
   },
   "outputs": [],
   "source": [
    "X_train,X_test,y_train,y_test = train_test_split(X,y,test_size=0.3)"
   ]
  },
  {
   "cell_type": "code",
   "execution_count": 22,
   "metadata": {
    "execution": {
     "iopub.execute_input": "2021-02-18T18:23:46.257185Z",
     "iopub.status.busy": "2021-02-18T18:23:46.256515Z",
     "iopub.status.idle": "2021-02-18T18:23:46.259814Z",
     "shell.execute_reply": "2021-02-18T18:23:46.259175Z"
    },
    "papermill": {
     "duration": 0.05996,
     "end_time": "2021-02-18T18:23:46.259965",
     "exception": false,
     "start_time": "2021-02-18T18:23:46.200005",
     "status": "completed"
    },
    "tags": []
   },
   "outputs": [],
   "source": [
    "scaler = MinMaxScaler(feature_range = (0,1))"
   ]
  },
  {
   "cell_type": "code",
   "execution_count": 23,
   "metadata": {
    "execution": {
     "iopub.execute_input": "2021-02-18T18:23:46.371252Z",
     "iopub.status.busy": "2021-02-18T18:23:46.370547Z",
     "iopub.status.idle": "2021-02-18T18:23:46.378348Z",
     "shell.execute_reply": "2021-02-18T18:23:46.377673Z"
    },
    "papermill": {
     "duration": 0.066551,
     "end_time": "2021-02-18T18:23:46.378514",
     "exception": false,
     "start_time": "2021-02-18T18:23:46.311963",
     "status": "completed"
    },
    "tags": []
   },
   "outputs": [
    {
     "data": {
      "text/plain": [
       "MinMaxScaler()"
      ]
     },
     "execution_count": 23,
     "metadata": {},
     "output_type": "execute_result"
    }
   ],
   "source": [
    "scaler.fit(X_train)"
   ]
  },
  {
   "cell_type": "code",
   "execution_count": 24,
   "metadata": {
    "execution": {
     "iopub.execute_input": "2021-02-18T18:23:46.495016Z",
     "iopub.status.busy": "2021-02-18T18:23:46.490714Z",
     "iopub.status.idle": "2021-02-18T18:23:46.499192Z",
     "shell.execute_reply": "2021-02-18T18:23:46.499702Z"
    },
    "papermill": {
     "duration": 0.068863,
     "end_time": "2021-02-18T18:23:46.499885",
     "exception": false,
     "start_time": "2021-02-18T18:23:46.431022",
     "status": "completed"
    },
    "tags": []
   },
   "outputs": [
    {
     "data": {
      "text/plain": [
       "array([[0.42857143, 1.        , 0.85855191, ..., 0.        , 1.        ,\n",
       "        1.        ],\n",
       "       [0.30357143, 0.66666667, 0.04143707, ..., 0.        , 0.        ,\n",
       "        0.        ],\n",
       "       [0.10714286, 0.33333333, 0.03251047, ..., 0.        , 0.        ,\n",
       "        0.        ],\n",
       "       ...,\n",
       "       [0.30357143, 0.66666667, 0.33215781, ..., 0.        , 0.        ,\n",
       "        0.        ],\n",
       "       [0.17857143, 0.66666667, 0.02242671, ..., 0.        , 0.        ,\n",
       "        0.        ],\n",
       "       [0.42857143, 0.66666667, 0.20834252, ..., 0.        , 0.        ,\n",
       "        0.        ]])"
      ]
     },
     "execution_count": 24,
     "metadata": {},
     "output_type": "execute_result"
    }
   ],
   "source": [
    "X_train = scaler.transform(X_train)\n",
    "X_test = scaler.transform(X_test)\n",
    "X_train"
   ]
  },
  {
   "cell_type": "code",
   "execution_count": 25,
   "metadata": {
    "execution": {
     "iopub.execute_input": "2021-02-18T18:23:46.610254Z",
     "iopub.status.busy": "2021-02-18T18:23:46.609583Z",
     "iopub.status.idle": "2021-02-18T18:23:46.698603Z",
     "shell.execute_reply": "2021-02-18T18:23:46.697962Z"
    },
    "papermill": {
     "duration": 0.145965,
     "end_time": "2021-02-18T18:23:46.698766",
     "exception": false,
     "start_time": "2021-02-18T18:23:46.552801",
     "status": "completed"
    },
    "tags": []
   },
   "outputs": [],
   "source": [
    "from sklearn.linear_model import LogisticRegression"
   ]
  },
  {
   "cell_type": "code",
   "execution_count": 26,
   "metadata": {
    "execution": {
     "iopub.execute_input": "2021-02-18T18:23:46.813010Z",
     "iopub.status.busy": "2021-02-18T18:23:46.812011Z",
     "iopub.status.idle": "2021-02-18T18:23:46.820351Z",
     "shell.execute_reply": "2021-02-18T18:23:46.819706Z"
    },
    "papermill": {
     "duration": 0.068171,
     "end_time": "2021-02-18T18:23:46.820515",
     "exception": false,
     "start_time": "2021-02-18T18:23:46.752344",
     "status": "completed"
    },
    "tags": []
   },
   "outputs": [
    {
     "data": {
      "text/plain": [
       "LogisticRegression(max_iter=500, solver='liblinear')"
      ]
     },
     "execution_count": 26,
     "metadata": {},
     "output_type": "execute_result"
    }
   ],
   "source": [
    "logmodel = LogisticRegression(solver= 'liblinear',max_iter = 500)\n",
    "logmodel.fit(X_train,y_train)"
   ]
  },
  {
   "cell_type": "code",
   "execution_count": 27,
   "metadata": {
    "execution": {
     "iopub.execute_input": "2021-02-18T18:23:46.933040Z",
     "iopub.status.busy": "2021-02-18T18:23:46.931975Z",
     "iopub.status.idle": "2021-02-18T18:23:46.935076Z",
     "shell.execute_reply": "2021-02-18T18:23:46.934564Z"
    },
    "papermill": {
     "duration": 0.061404,
     "end_time": "2021-02-18T18:23:46.935214",
     "exception": false,
     "start_time": "2021-02-18T18:23:46.873810",
     "status": "completed"
    },
    "tags": []
   },
   "outputs": [],
   "source": [
    "predictions = logmodel.predict(X_test)"
   ]
  },
  {
   "cell_type": "code",
   "execution_count": 28,
   "metadata": {
    "execution": {
     "iopub.execute_input": "2021-02-18T18:23:47.047935Z",
     "iopub.status.busy": "2021-02-18T18:23:47.047222Z",
     "iopub.status.idle": "2021-02-18T18:23:47.050702Z",
     "shell.execute_reply": "2021-02-18T18:23:47.050126Z"
    },
    "papermill": {
     "duration": 0.061571,
     "end_time": "2021-02-18T18:23:47.050845",
     "exception": false,
     "start_time": "2021-02-18T18:23:46.989274",
     "status": "completed"
    },
    "tags": []
   },
   "outputs": [],
   "source": [
    "from sklearn.metrics import classification_report,confusion_matrix"
   ]
  },
  {
   "cell_type": "code",
   "execution_count": 29,
   "metadata": {
    "execution": {
     "iopub.execute_input": "2021-02-18T18:23:47.165598Z",
     "iopub.status.busy": "2021-02-18T18:23:47.164835Z",
     "iopub.status.idle": "2021-02-18T18:23:47.174703Z",
     "shell.execute_reply": "2021-02-18T18:23:47.174024Z"
    },
    "papermill": {
     "duration": 0.070152,
     "end_time": "2021-02-18T18:23:47.174864",
     "exception": false,
     "start_time": "2021-02-18T18:23:47.104712",
     "status": "completed"
    },
    "tags": []
   },
   "outputs": [
    {
     "name": "stdout",
     "output_type": "stream",
     "text": [
      "Only Dummy var LogModel: \n",
      "               precision    recall  f1-score   support\n",
      "\n",
      "           0       0.54      0.34      0.42        90\n",
      "           1       0.76      0.88      0.81       210\n",
      "\n",
      "    accuracy                           0.72       300\n",
      "   macro avg       0.65      0.61      0.62       300\n",
      "weighted avg       0.69      0.72      0.70       300\n",
      "\n"
     ]
    }
   ],
   "source": [
    "print('Only Dummy var LogModel: \\n',classification_report(y_test,predictions))"
   ]
  },
  {
   "cell_type": "code",
   "execution_count": 30,
   "metadata": {
    "execution": {
     "iopub.execute_input": "2021-02-18T18:23:47.294822Z",
     "iopub.status.busy": "2021-02-18T18:23:47.294141Z",
     "iopub.status.idle": "2021-02-18T18:23:47.298799Z",
     "shell.execute_reply": "2021-02-18T18:23:47.297992Z"
    },
    "papermill": {
     "duration": 0.066621,
     "end_time": "2021-02-18T18:23:47.298987",
     "exception": false,
     "start_time": "2021-02-18T18:23:47.232366",
     "status": "completed"
    },
    "tags": []
   },
   "outputs": [
    {
     "name": "stdout",
     "output_type": "stream",
     "text": [
      "[[ 31  59]\n",
      " [ 26 184]]\n"
     ]
    }
   ],
   "source": [
    "print(confusion_matrix(y_test,predictions))"
   ]
  },
  {
   "cell_type": "code",
   "execution_count": 31,
   "metadata": {
    "execution": {
     "iopub.execute_input": "2021-02-18T18:23:47.414821Z",
     "iopub.status.busy": "2021-02-18T18:23:47.414126Z",
     "iopub.status.idle": "2021-02-18T18:23:47.539172Z",
     "shell.execute_reply": "2021-02-18T18:23:47.539761Z"
    },
    "papermill": {
     "duration": 0.184205,
     "end_time": "2021-02-18T18:23:47.539948",
     "exception": false,
     "start_time": "2021-02-18T18:23:47.355743",
     "status": "completed"
    },
    "tags": []
   },
   "outputs": [],
   "source": [
    "from sklearn.ensemble import RandomForestClassifier"
   ]
  },
  {
   "cell_type": "code",
   "execution_count": 32,
   "metadata": {
    "execution": {
     "iopub.execute_input": "2021-02-18T18:23:47.655010Z",
     "iopub.status.busy": "2021-02-18T18:23:47.654326Z",
     "iopub.status.idle": "2021-02-18T18:23:47.656555Z",
     "shell.execute_reply": "2021-02-18T18:23:47.657141Z"
    },
    "papermill": {
     "duration": 0.062316,
     "end_time": "2021-02-18T18:23:47.657324",
     "exception": false,
     "start_time": "2021-02-18T18:23:47.595008",
     "status": "completed"
    },
    "tags": []
   },
   "outputs": [],
   "source": [
    "rfc = RandomForestClassifier(n_estimators = 200)"
   ]
  },
  {
   "cell_type": "code",
   "execution_count": 33,
   "metadata": {
    "execution": {
     "iopub.execute_input": "2021-02-18T18:23:47.770087Z",
     "iopub.status.busy": "2021-02-18T18:23:47.769379Z",
     "iopub.status.idle": "2021-02-18T18:23:48.255301Z",
     "shell.execute_reply": "2021-02-18T18:23:48.254715Z"
    },
    "papermill": {
     "duration": 0.543468,
     "end_time": "2021-02-18T18:23:48.255445",
     "exception": false,
     "start_time": "2021-02-18T18:23:47.711977",
     "status": "completed"
    },
    "tags": []
   },
   "outputs": [
    {
     "data": {
      "text/plain": [
       "RandomForestClassifier(n_estimators=200)"
      ]
     },
     "execution_count": 33,
     "metadata": {},
     "output_type": "execute_result"
    }
   ],
   "source": [
    "rfc.fit(X_train,y_train)"
   ]
  },
  {
   "cell_type": "code",
   "execution_count": 34,
   "metadata": {
    "execution": {
     "iopub.execute_input": "2021-02-18T18:23:48.371098Z",
     "iopub.status.busy": "2021-02-18T18:23:48.370379Z",
     "iopub.status.idle": "2021-02-18T18:23:48.400679Z",
     "shell.execute_reply": "2021-02-18T18:23:48.401242Z"
    },
    "papermill": {
     "duration": 0.090863,
     "end_time": "2021-02-18T18:23:48.401427",
     "exception": false,
     "start_time": "2021-02-18T18:23:48.310564",
     "status": "completed"
    },
    "tags": []
   },
   "outputs": [],
   "source": [
    "preds = rfc.predict(X_test)"
   ]
  },
  {
   "cell_type": "code",
   "execution_count": 35,
   "metadata": {
    "execution": {
     "iopub.execute_input": "2021-02-18T18:23:48.516508Z",
     "iopub.status.busy": "2021-02-18T18:23:48.515742Z",
     "iopub.status.idle": "2021-02-18T18:23:48.528296Z",
     "shell.execute_reply": "2021-02-18T18:23:48.526994Z"
    },
    "papermill": {
     "duration": 0.071609,
     "end_time": "2021-02-18T18:23:48.528572",
     "exception": false,
     "start_time": "2021-02-18T18:23:48.456963",
     "status": "completed"
    },
    "tags": []
   },
   "outputs": [
    {
     "name": "stdout",
     "output_type": "stream",
     "text": [
      "Only Dummy Var RFC: \n",
      "               precision    recall  f1-score   support\n",
      "\n",
      "           0       0.52      0.31      0.39        90\n",
      "           1       0.75      0.88      0.81       210\n",
      "\n",
      "    accuracy                           0.71       300\n",
      "   macro avg       0.63      0.59      0.60       300\n",
      "weighted avg       0.68      0.71      0.68       300\n",
      "\n"
     ]
    }
   ],
   "source": [
    "print('Only Dummy Var RFC: \\n',classification_report(y_test,preds))"
   ]
  },
  {
   "cell_type": "code",
   "execution_count": 36,
   "metadata": {
    "execution": {
     "iopub.execute_input": "2021-02-18T18:23:48.644995Z",
     "iopub.status.busy": "2021-02-18T18:23:48.644280Z",
     "iopub.status.idle": "2021-02-18T18:23:48.651445Z",
     "shell.execute_reply": "2021-02-18T18:23:48.650888Z"
    },
    "papermill": {
     "duration": 0.066097,
     "end_time": "2021-02-18T18:23:48.651606",
     "exception": false,
     "start_time": "2021-02-18T18:23:48.585509",
     "status": "completed"
    },
    "tags": []
   },
   "outputs": [
    {
     "name": "stdout",
     "output_type": "stream",
     "text": [
      "[[ 28  62]\n",
      " [ 26 184]]\n"
     ]
    }
   ],
   "source": [
    "print(confusion_matrix(y_test,preds))"
   ]
  },
  {
   "cell_type": "markdown",
   "metadata": {
    "papermill": {
     "duration": 0.057531,
     "end_time": "2021-02-18T18:23:48.766294",
     "exception": false,
     "start_time": "2021-02-18T18:23:48.708763",
     "status": "completed"
    },
    "tags": []
   },
   "source": [
    "# Using dummy variables and label encoded variables"
   ]
  },
  {
   "cell_type": "code",
   "execution_count": 37,
   "metadata": {
    "execution": {
     "iopub.execute_input": "2021-02-18T18:23:48.884297Z",
     "iopub.status.busy": "2021-02-18T18:23:48.883642Z",
     "iopub.status.idle": "2021-02-18T18:23:48.901026Z",
     "shell.execute_reply": "2021-02-18T18:23:48.900356Z"
    },
    "papermill": {
     "duration": 0.078045,
     "end_time": "2021-02-18T18:23:48.901181",
     "exception": false,
     "start_time": "2021-02-18T18:23:48.823136",
     "status": "completed"
    },
    "tags": []
   },
   "outputs": [
    {
     "data": {
      "text/html": [
       "<div>\n",
       "<style scoped>\n",
       "    .dataframe tbody tr th:only-of-type {\n",
       "        vertical-align: middle;\n",
       "    }\n",
       "\n",
       "    .dataframe tbody tr th {\n",
       "        vertical-align: top;\n",
       "    }\n",
       "\n",
       "    .dataframe thead th {\n",
       "        text-align: right;\n",
       "    }\n",
       "</style>\n",
       "<table border=\"1\" class=\"dataframe\">\n",
       "  <thead>\n",
       "    <tr style=\"text-align: right;\">\n",
       "      <th></th>\n",
       "      <th>Age</th>\n",
       "      <th>Sex</th>\n",
       "      <th>Job</th>\n",
       "      <th>Housing</th>\n",
       "      <th>Saving accounts</th>\n",
       "      <th>Checking account</th>\n",
       "      <th>Credit amount</th>\n",
       "      <th>Duration</th>\n",
       "      <th>Purpose</th>\n",
       "      <th>Risk</th>\n",
       "    </tr>\n",
       "  </thead>\n",
       "  <tbody>\n",
       "    <tr>\n",
       "      <th>0</th>\n",
       "      <td>67</td>\n",
       "      <td>male</td>\n",
       "      <td>2</td>\n",
       "      <td>own</td>\n",
       "      <td>none</td>\n",
       "      <td>little</td>\n",
       "      <td>1169</td>\n",
       "      <td>6</td>\n",
       "      <td>radio/TV</td>\n",
       "      <td>good</td>\n",
       "    </tr>\n",
       "    <tr>\n",
       "      <th>1</th>\n",
       "      <td>22</td>\n",
       "      <td>female</td>\n",
       "      <td>2</td>\n",
       "      <td>own</td>\n",
       "      <td>little</td>\n",
       "      <td>moderate</td>\n",
       "      <td>5951</td>\n",
       "      <td>48</td>\n",
       "      <td>radio/TV</td>\n",
       "      <td>bad</td>\n",
       "    </tr>\n",
       "    <tr>\n",
       "      <th>2</th>\n",
       "      <td>49</td>\n",
       "      <td>male</td>\n",
       "      <td>1</td>\n",
       "      <td>own</td>\n",
       "      <td>little</td>\n",
       "      <td>none</td>\n",
       "      <td>2096</td>\n",
       "      <td>12</td>\n",
       "      <td>education</td>\n",
       "      <td>good</td>\n",
       "    </tr>\n",
       "    <tr>\n",
       "      <th>3</th>\n",
       "      <td>45</td>\n",
       "      <td>male</td>\n",
       "      <td>2</td>\n",
       "      <td>free</td>\n",
       "      <td>little</td>\n",
       "      <td>little</td>\n",
       "      <td>7882</td>\n",
       "      <td>42</td>\n",
       "      <td>furniture/equipment</td>\n",
       "      <td>good</td>\n",
       "    </tr>\n",
       "    <tr>\n",
       "      <th>4</th>\n",
       "      <td>53</td>\n",
       "      <td>male</td>\n",
       "      <td>2</td>\n",
       "      <td>free</td>\n",
       "      <td>little</td>\n",
       "      <td>little</td>\n",
       "      <td>4870</td>\n",
       "      <td>24</td>\n",
       "      <td>car</td>\n",
       "      <td>bad</td>\n",
       "    </tr>\n",
       "  </tbody>\n",
       "</table>\n",
       "</div>"
      ],
      "text/plain": [
       "   Age     Sex  Job Housing Saving accounts Checking account  Credit amount  \\\n",
       "0   67    male    2     own            none           little           1169   \n",
       "1   22  female    2     own          little         moderate           5951   \n",
       "2   49    male    1     own          little             none           2096   \n",
       "3   45    male    2    free          little           little           7882   \n",
       "4   53    male    2    free          little           little           4870   \n",
       "\n",
       "   Duration              Purpose  Risk  \n",
       "0         6             radio/TV  good  \n",
       "1        48             radio/TV   bad  \n",
       "2        12            education  good  \n",
       "3        42  furniture/equipment  good  \n",
       "4        24                  car   bad  "
      ]
     },
     "execution_count": 37,
     "metadata": {},
     "output_type": "execute_result"
    }
   ],
   "source": [
    "df2 = data.copy()\n",
    "df2.head()"
   ]
  },
  {
   "cell_type": "code",
   "execution_count": 38,
   "metadata": {
    "execution": {
     "iopub.execute_input": "2021-02-18T18:23:49.019398Z",
     "iopub.status.busy": "2021-02-18T18:23:49.018707Z",
     "iopub.status.idle": "2021-02-18T18:23:49.036894Z",
     "shell.execute_reply": "2021-02-18T18:23:49.037391Z"
    },
    "papermill": {
     "duration": 0.079185,
     "end_time": "2021-02-18T18:23:49.037602",
     "exception": false,
     "start_time": "2021-02-18T18:23:48.958417",
     "status": "completed"
    },
    "tags": []
   },
   "outputs": [
    {
     "data": {
      "text/html": [
       "<div>\n",
       "<style scoped>\n",
       "    .dataframe tbody tr th:only-of-type {\n",
       "        vertical-align: middle;\n",
       "    }\n",
       "\n",
       "    .dataframe tbody tr th {\n",
       "        vertical-align: top;\n",
       "    }\n",
       "\n",
       "    .dataframe thead th {\n",
       "        text-align: right;\n",
       "    }\n",
       "</style>\n",
       "<table border=\"1\" class=\"dataframe\">\n",
       "  <thead>\n",
       "    <tr style=\"text-align: right;\">\n",
       "      <th></th>\n",
       "      <th>Age</th>\n",
       "      <th>Job</th>\n",
       "      <th>Housing</th>\n",
       "      <th>Saving accounts</th>\n",
       "      <th>Checking account</th>\n",
       "      <th>Credit amount</th>\n",
       "      <th>Duration</th>\n",
       "      <th>Purpose</th>\n",
       "      <th>Risk</th>\n",
       "      <th>Male</th>\n",
       "    </tr>\n",
       "  </thead>\n",
       "  <tbody>\n",
       "    <tr>\n",
       "      <th>0</th>\n",
       "      <td>67</td>\n",
       "      <td>2</td>\n",
       "      <td>own</td>\n",
       "      <td>none</td>\n",
       "      <td>little</td>\n",
       "      <td>1169</td>\n",
       "      <td>6</td>\n",
       "      <td>radio/TV</td>\n",
       "      <td>good</td>\n",
       "      <td>1</td>\n",
       "    </tr>\n",
       "    <tr>\n",
       "      <th>1</th>\n",
       "      <td>22</td>\n",
       "      <td>2</td>\n",
       "      <td>own</td>\n",
       "      <td>little</td>\n",
       "      <td>moderate</td>\n",
       "      <td>5951</td>\n",
       "      <td>48</td>\n",
       "      <td>radio/TV</td>\n",
       "      <td>bad</td>\n",
       "      <td>0</td>\n",
       "    </tr>\n",
       "    <tr>\n",
       "      <th>2</th>\n",
       "      <td>49</td>\n",
       "      <td>1</td>\n",
       "      <td>own</td>\n",
       "      <td>little</td>\n",
       "      <td>none</td>\n",
       "      <td>2096</td>\n",
       "      <td>12</td>\n",
       "      <td>education</td>\n",
       "      <td>good</td>\n",
       "      <td>1</td>\n",
       "    </tr>\n",
       "    <tr>\n",
       "      <th>3</th>\n",
       "      <td>45</td>\n",
       "      <td>2</td>\n",
       "      <td>free</td>\n",
       "      <td>little</td>\n",
       "      <td>little</td>\n",
       "      <td>7882</td>\n",
       "      <td>42</td>\n",
       "      <td>furniture/equipment</td>\n",
       "      <td>good</td>\n",
       "      <td>1</td>\n",
       "    </tr>\n",
       "    <tr>\n",
       "      <th>4</th>\n",
       "      <td>53</td>\n",
       "      <td>2</td>\n",
       "      <td>free</td>\n",
       "      <td>little</td>\n",
       "      <td>little</td>\n",
       "      <td>4870</td>\n",
       "      <td>24</td>\n",
       "      <td>car</td>\n",
       "      <td>bad</td>\n",
       "      <td>1</td>\n",
       "    </tr>\n",
       "  </tbody>\n",
       "</table>\n",
       "</div>"
      ],
      "text/plain": [
       "   Age  Job Housing Saving accounts Checking account  Credit amount  Duration  \\\n",
       "0   67    2     own            none           little           1169         6   \n",
       "1   22    2     own          little         moderate           5951        48   \n",
       "2   49    1     own          little             none           2096        12   \n",
       "3   45    2    free          little           little           7882        42   \n",
       "4   53    2    free          little           little           4870        24   \n",
       "\n",
       "               Purpose  Risk  Male  \n",
       "0             radio/TV  good     1  \n",
       "1             radio/TV   bad     0  \n",
       "2            education  good     1  \n",
       "3  furniture/equipment  good     1  \n",
       "4                  car   bad     1  "
      ]
     },
     "execution_count": 38,
     "metadata": {},
     "output_type": "execute_result"
    }
   ],
   "source": [
    "df2['Male'] = pd.get_dummies(df2['Sex'],drop_first=True)\n",
    "df2.drop('Sex',axis=1,inplace=True )\n",
    "df2.head()"
   ]
  },
  {
   "cell_type": "code",
   "execution_count": 39,
   "metadata": {
    "execution": {
     "iopub.execute_input": "2021-02-18T18:23:49.156402Z",
     "iopub.status.busy": "2021-02-18T18:23:49.155745Z",
     "iopub.status.idle": "2021-02-18T18:23:49.175925Z",
     "shell.execute_reply": "2021-02-18T18:23:49.176400Z"
    },
    "papermill": {
     "duration": 0.081231,
     "end_time": "2021-02-18T18:23:49.176611",
     "exception": false,
     "start_time": "2021-02-18T18:23:49.095380",
     "status": "completed"
    },
    "tags": []
   },
   "outputs": [
    {
     "data": {
      "text/html": [
       "<div>\n",
       "<style scoped>\n",
       "    .dataframe tbody tr th:only-of-type {\n",
       "        vertical-align: middle;\n",
       "    }\n",
       "\n",
       "    .dataframe tbody tr th {\n",
       "        vertical-align: top;\n",
       "    }\n",
       "\n",
       "    .dataframe thead th {\n",
       "        text-align: right;\n",
       "    }\n",
       "</style>\n",
       "<table border=\"1\" class=\"dataframe\">\n",
       "  <thead>\n",
       "    <tr style=\"text-align: right;\">\n",
       "      <th></th>\n",
       "      <th>Age</th>\n",
       "      <th>Job</th>\n",
       "      <th>Saving accounts</th>\n",
       "      <th>Checking account</th>\n",
       "      <th>Credit amount</th>\n",
       "      <th>Duration</th>\n",
       "      <th>Purpose</th>\n",
       "      <th>Risk</th>\n",
       "      <th>Male</th>\n",
       "      <th>Housing_own</th>\n",
       "      <th>Housing_rent</th>\n",
       "    </tr>\n",
       "  </thead>\n",
       "  <tbody>\n",
       "    <tr>\n",
       "      <th>0</th>\n",
       "      <td>67</td>\n",
       "      <td>2</td>\n",
       "      <td>none</td>\n",
       "      <td>little</td>\n",
       "      <td>1169</td>\n",
       "      <td>6</td>\n",
       "      <td>radio/TV</td>\n",
       "      <td>good</td>\n",
       "      <td>1</td>\n",
       "      <td>1</td>\n",
       "      <td>0</td>\n",
       "    </tr>\n",
       "    <tr>\n",
       "      <th>1</th>\n",
       "      <td>22</td>\n",
       "      <td>2</td>\n",
       "      <td>little</td>\n",
       "      <td>moderate</td>\n",
       "      <td>5951</td>\n",
       "      <td>48</td>\n",
       "      <td>radio/TV</td>\n",
       "      <td>bad</td>\n",
       "      <td>0</td>\n",
       "      <td>1</td>\n",
       "      <td>0</td>\n",
       "    </tr>\n",
       "    <tr>\n",
       "      <th>2</th>\n",
       "      <td>49</td>\n",
       "      <td>1</td>\n",
       "      <td>little</td>\n",
       "      <td>none</td>\n",
       "      <td>2096</td>\n",
       "      <td>12</td>\n",
       "      <td>education</td>\n",
       "      <td>good</td>\n",
       "      <td>1</td>\n",
       "      <td>1</td>\n",
       "      <td>0</td>\n",
       "    </tr>\n",
       "    <tr>\n",
       "      <th>3</th>\n",
       "      <td>45</td>\n",
       "      <td>2</td>\n",
       "      <td>little</td>\n",
       "      <td>little</td>\n",
       "      <td>7882</td>\n",
       "      <td>42</td>\n",
       "      <td>furniture/equipment</td>\n",
       "      <td>good</td>\n",
       "      <td>1</td>\n",
       "      <td>0</td>\n",
       "      <td>0</td>\n",
       "    </tr>\n",
       "    <tr>\n",
       "      <th>4</th>\n",
       "      <td>53</td>\n",
       "      <td>2</td>\n",
       "      <td>little</td>\n",
       "      <td>little</td>\n",
       "      <td>4870</td>\n",
       "      <td>24</td>\n",
       "      <td>car</td>\n",
       "      <td>bad</td>\n",
       "      <td>1</td>\n",
       "      <td>0</td>\n",
       "      <td>0</td>\n",
       "    </tr>\n",
       "  </tbody>\n",
       "</table>\n",
       "</div>"
      ],
      "text/plain": [
       "   Age  Job Saving accounts Checking account  Credit amount  Duration  \\\n",
       "0   67    2            none           little           1169         6   \n",
       "1   22    2          little         moderate           5951        48   \n",
       "2   49    1          little             none           2096        12   \n",
       "3   45    2          little           little           7882        42   \n",
       "4   53    2          little           little           4870        24   \n",
       "\n",
       "               Purpose  Risk  Male  Housing_own  Housing_rent  \n",
       "0             radio/TV  good     1            1             0  \n",
       "1             radio/TV   bad     0            1             0  \n",
       "2            education  good     1            1             0  \n",
       "3  furniture/equipment  good     1            0             0  \n",
       "4                  car   bad     1            0             0  "
      ]
     },
     "execution_count": 39,
     "metadata": {},
     "output_type": "execute_result"
    }
   ],
   "source": [
    "df2['Housing_own']=pd.get_dummies(df2['Housing'],drop_first=True).iloc[:,0]\n",
    "df2['Housing_rent']=pd.get_dummies(df2['Housing'],drop_first=True).iloc[:,1]\n",
    "df2.drop('Housing',axis=1,inplace=True)\n",
    "df2.head()\n"
   ]
  },
  {
   "cell_type": "code",
   "execution_count": 40,
   "metadata": {
    "execution": {
     "iopub.execute_input": "2021-02-18T18:23:49.299077Z",
     "iopub.status.busy": "2021-02-18T18:23:49.298371Z",
     "iopub.status.idle": "2021-02-18T18:23:49.336482Z",
     "shell.execute_reply": "2021-02-18T18:23:49.335919Z"
    },
    "papermill": {
     "duration": 0.099992,
     "end_time": "2021-02-18T18:23:49.336661",
     "exception": false,
     "start_time": "2021-02-18T18:23:49.236669",
     "status": "completed"
    },
    "tags": []
   },
   "outputs": [
    {
     "data": {
      "text/html": [
       "<div>\n",
       "<style scoped>\n",
       "    .dataframe tbody tr th:only-of-type {\n",
       "        vertical-align: middle;\n",
       "    }\n",
       "\n",
       "    .dataframe tbody tr th {\n",
       "        vertical-align: top;\n",
       "    }\n",
       "\n",
       "    .dataframe thead th {\n",
       "        text-align: right;\n",
       "    }\n",
       "</style>\n",
       "<table border=\"1\" class=\"dataframe\">\n",
       "  <thead>\n",
       "    <tr style=\"text-align: right;\">\n",
       "      <th></th>\n",
       "      <th>Age</th>\n",
       "      <th>Job</th>\n",
       "      <th>Saving accounts</th>\n",
       "      <th>Checking account</th>\n",
       "      <th>Credit amount</th>\n",
       "      <th>Duration</th>\n",
       "      <th>Risk</th>\n",
       "      <th>Male</th>\n",
       "      <th>Housing_own</th>\n",
       "      <th>Housing_rent</th>\n",
       "      <th>Purpose_business</th>\n",
       "      <th>Purpose_car</th>\n",
       "      <th>Purpose_domestic</th>\n",
       "      <th>Purpose_education</th>\n",
       "      <th>Purpose_furniture</th>\n",
       "      <th>Purpose_radiotv</th>\n",
       "      <th>Purpose_repairs</th>\n",
       "      <th>Purpose_vacationothers</th>\n",
       "    </tr>\n",
       "  </thead>\n",
       "  <tbody>\n",
       "    <tr>\n",
       "      <th>0</th>\n",
       "      <td>67</td>\n",
       "      <td>2</td>\n",
       "      <td>none</td>\n",
       "      <td>little</td>\n",
       "      <td>1169</td>\n",
       "      <td>6</td>\n",
       "      <td>good</td>\n",
       "      <td>1</td>\n",
       "      <td>1</td>\n",
       "      <td>0</td>\n",
       "      <td>0</td>\n",
       "      <td>0</td>\n",
       "      <td>0</td>\n",
       "      <td>0</td>\n",
       "      <td>1</td>\n",
       "      <td>0</td>\n",
       "      <td>0</td>\n",
       "      <td>0</td>\n",
       "    </tr>\n",
       "    <tr>\n",
       "      <th>1</th>\n",
       "      <td>22</td>\n",
       "      <td>2</td>\n",
       "      <td>little</td>\n",
       "      <td>moderate</td>\n",
       "      <td>5951</td>\n",
       "      <td>48</td>\n",
       "      <td>bad</td>\n",
       "      <td>0</td>\n",
       "      <td>1</td>\n",
       "      <td>0</td>\n",
       "      <td>0</td>\n",
       "      <td>0</td>\n",
       "      <td>0</td>\n",
       "      <td>0</td>\n",
       "      <td>1</td>\n",
       "      <td>0</td>\n",
       "      <td>0</td>\n",
       "      <td>0</td>\n",
       "    </tr>\n",
       "    <tr>\n",
       "      <th>2</th>\n",
       "      <td>49</td>\n",
       "      <td>1</td>\n",
       "      <td>little</td>\n",
       "      <td>none</td>\n",
       "      <td>2096</td>\n",
       "      <td>12</td>\n",
       "      <td>good</td>\n",
       "      <td>1</td>\n",
       "      <td>1</td>\n",
       "      <td>0</td>\n",
       "      <td>0</td>\n",
       "      <td>0</td>\n",
       "      <td>1</td>\n",
       "      <td>0</td>\n",
       "      <td>0</td>\n",
       "      <td>0</td>\n",
       "      <td>0</td>\n",
       "      <td>0</td>\n",
       "    </tr>\n",
       "    <tr>\n",
       "      <th>3</th>\n",
       "      <td>45</td>\n",
       "      <td>2</td>\n",
       "      <td>little</td>\n",
       "      <td>little</td>\n",
       "      <td>7882</td>\n",
       "      <td>42</td>\n",
       "      <td>good</td>\n",
       "      <td>1</td>\n",
       "      <td>0</td>\n",
       "      <td>0</td>\n",
       "      <td>0</td>\n",
       "      <td>0</td>\n",
       "      <td>0</td>\n",
       "      <td>1</td>\n",
       "      <td>0</td>\n",
       "      <td>0</td>\n",
       "      <td>0</td>\n",
       "      <td>0</td>\n",
       "    </tr>\n",
       "    <tr>\n",
       "      <th>4</th>\n",
       "      <td>53</td>\n",
       "      <td>2</td>\n",
       "      <td>little</td>\n",
       "      <td>little</td>\n",
       "      <td>4870</td>\n",
       "      <td>24</td>\n",
       "      <td>bad</td>\n",
       "      <td>1</td>\n",
       "      <td>0</td>\n",
       "      <td>0</td>\n",
       "      <td>1</td>\n",
       "      <td>0</td>\n",
       "      <td>0</td>\n",
       "      <td>0</td>\n",
       "      <td>0</td>\n",
       "      <td>0</td>\n",
       "      <td>0</td>\n",
       "      <td>0</td>\n",
       "    </tr>\n",
       "  </tbody>\n",
       "</table>\n",
       "</div>"
      ],
      "text/plain": [
       "   Age  Job Saving accounts Checking account  Credit amount  Duration  Risk  \\\n",
       "0   67    2            none           little           1169         6  good   \n",
       "1   22    2          little         moderate           5951        48   bad   \n",
       "2   49    1          little             none           2096        12  good   \n",
       "3   45    2          little           little           7882        42  good   \n",
       "4   53    2          little           little           4870        24   bad   \n",
       "\n",
       "   Male  Housing_own  Housing_rent  Purpose_business  Purpose_car  \\\n",
       "0     1            1             0                 0            0   \n",
       "1     0            1             0                 0            0   \n",
       "2     1            1             0                 0            0   \n",
       "3     1            0             0                 0            0   \n",
       "4     1            0             0                 1            0   \n",
       "\n",
       "   Purpose_domestic  Purpose_education  Purpose_furniture  Purpose_radiotv  \\\n",
       "0                 0                  0                  1                0   \n",
       "1                 0                  0                  1                0   \n",
       "2                 1                  0                  0                0   \n",
       "3                 0                  1                  0                0   \n",
       "4                 0                  0                  0                0   \n",
       "\n",
       "   Purpose_repairs  Purpose_vacationothers  \n",
       "0                0                       0  \n",
       "1                0                       0  \n",
       "2                0                       0  \n",
       "3                0                       0  \n",
       "4                0                       0  "
      ]
     },
     "execution_count": 40,
     "metadata": {},
     "output_type": "execute_result"
    }
   ],
   "source": [
    "df2['Purpose_business']=pd.get_dummies(df2['Purpose'],drop_first=True,dummy_na=True).iloc[:,0]\n",
    "df2['Purpose_car']=pd.get_dummies(df2['Purpose'],drop_first=True,dummy_na=True).iloc[:,1]\n",
    "df2['Purpose_domestic']=pd.get_dummies(df2['Purpose'],drop_first=True,dummy_na=True).iloc[:,2]\n",
    "df2['Purpose_education']=pd.get_dummies(df2['Purpose'],drop_first=True,dummy_na=True).iloc[:,3]\n",
    "df2['Purpose_furniture']=pd.get_dummies(df2['Purpose'],drop_first=True,dummy_na=True).iloc[:,4]\n",
    "df2['Purpose_radiotv']=pd.get_dummies(df2['Purpose'],drop_first=True,dummy_na=True).iloc[:,5]\n",
    "df2['Purpose_repairs']=pd.get_dummies(df2['Purpose'],drop_first=True,dummy_na=True).iloc[:,6]\n",
    "df2['Purpose_vacationothers']=pd.get_dummies(df2['Purpose'],drop_first=True,dummy_na=True).iloc[:,6]\n",
    "\n",
    "df2.drop('Purpose',axis=1,inplace=True)\n",
    "df2.head()"
   ]
  },
  {
   "cell_type": "code",
   "execution_count": 41,
   "metadata": {
    "execution": {
     "iopub.execute_input": "2021-02-18T18:23:49.460009Z",
     "iopub.status.busy": "2021-02-18T18:23:49.459330Z",
     "iopub.status.idle": "2021-02-18T18:23:49.478847Z",
     "shell.execute_reply": "2021-02-18T18:23:49.478331Z"
    },
    "papermill": {
     "duration": 0.083669,
     "end_time": "2021-02-18T18:23:49.478990",
     "exception": false,
     "start_time": "2021-02-18T18:23:49.395321",
     "status": "completed"
    },
    "tags": []
   },
   "outputs": [
    {
     "data": {
      "text/html": [
       "<div>\n",
       "<style scoped>\n",
       "    .dataframe tbody tr th:only-of-type {\n",
       "        vertical-align: middle;\n",
       "    }\n",
       "\n",
       "    .dataframe tbody tr th {\n",
       "        vertical-align: top;\n",
       "    }\n",
       "\n",
       "    .dataframe thead th {\n",
       "        text-align: right;\n",
       "    }\n",
       "</style>\n",
       "<table border=\"1\" class=\"dataframe\">\n",
       "  <thead>\n",
       "    <tr style=\"text-align: right;\">\n",
       "      <th></th>\n",
       "      <th>Age</th>\n",
       "      <th>Job</th>\n",
       "      <th>Saving accounts</th>\n",
       "      <th>Checking account</th>\n",
       "      <th>Credit amount</th>\n",
       "      <th>Duration</th>\n",
       "      <th>Male</th>\n",
       "      <th>Housing_own</th>\n",
       "      <th>Housing_rent</th>\n",
       "      <th>Purpose_business</th>\n",
       "      <th>Purpose_car</th>\n",
       "      <th>Purpose_domestic</th>\n",
       "      <th>Purpose_education</th>\n",
       "      <th>Purpose_furniture</th>\n",
       "      <th>Purpose_radiotv</th>\n",
       "      <th>Purpose_repairs</th>\n",
       "      <th>Purpose_vacationothers</th>\n",
       "      <th>Risk_good</th>\n",
       "    </tr>\n",
       "  </thead>\n",
       "  <tbody>\n",
       "    <tr>\n",
       "      <th>0</th>\n",
       "      <td>67</td>\n",
       "      <td>2</td>\n",
       "      <td>none</td>\n",
       "      <td>little</td>\n",
       "      <td>1169</td>\n",
       "      <td>6</td>\n",
       "      <td>1</td>\n",
       "      <td>1</td>\n",
       "      <td>0</td>\n",
       "      <td>0</td>\n",
       "      <td>0</td>\n",
       "      <td>0</td>\n",
       "      <td>0</td>\n",
       "      <td>1</td>\n",
       "      <td>0</td>\n",
       "      <td>0</td>\n",
       "      <td>0</td>\n",
       "      <td>1</td>\n",
       "    </tr>\n",
       "    <tr>\n",
       "      <th>1</th>\n",
       "      <td>22</td>\n",
       "      <td>2</td>\n",
       "      <td>little</td>\n",
       "      <td>moderate</td>\n",
       "      <td>5951</td>\n",
       "      <td>48</td>\n",
       "      <td>0</td>\n",
       "      <td>1</td>\n",
       "      <td>0</td>\n",
       "      <td>0</td>\n",
       "      <td>0</td>\n",
       "      <td>0</td>\n",
       "      <td>0</td>\n",
       "      <td>1</td>\n",
       "      <td>0</td>\n",
       "      <td>0</td>\n",
       "      <td>0</td>\n",
       "      <td>0</td>\n",
       "    </tr>\n",
       "    <tr>\n",
       "      <th>2</th>\n",
       "      <td>49</td>\n",
       "      <td>1</td>\n",
       "      <td>little</td>\n",
       "      <td>none</td>\n",
       "      <td>2096</td>\n",
       "      <td>12</td>\n",
       "      <td>1</td>\n",
       "      <td>1</td>\n",
       "      <td>0</td>\n",
       "      <td>0</td>\n",
       "      <td>0</td>\n",
       "      <td>1</td>\n",
       "      <td>0</td>\n",
       "      <td>0</td>\n",
       "      <td>0</td>\n",
       "      <td>0</td>\n",
       "      <td>0</td>\n",
       "      <td>1</td>\n",
       "    </tr>\n",
       "    <tr>\n",
       "      <th>3</th>\n",
       "      <td>45</td>\n",
       "      <td>2</td>\n",
       "      <td>little</td>\n",
       "      <td>little</td>\n",
       "      <td>7882</td>\n",
       "      <td>42</td>\n",
       "      <td>1</td>\n",
       "      <td>0</td>\n",
       "      <td>0</td>\n",
       "      <td>0</td>\n",
       "      <td>0</td>\n",
       "      <td>0</td>\n",
       "      <td>1</td>\n",
       "      <td>0</td>\n",
       "      <td>0</td>\n",
       "      <td>0</td>\n",
       "      <td>0</td>\n",
       "      <td>1</td>\n",
       "    </tr>\n",
       "    <tr>\n",
       "      <th>4</th>\n",
       "      <td>53</td>\n",
       "      <td>2</td>\n",
       "      <td>little</td>\n",
       "      <td>little</td>\n",
       "      <td>4870</td>\n",
       "      <td>24</td>\n",
       "      <td>1</td>\n",
       "      <td>0</td>\n",
       "      <td>0</td>\n",
       "      <td>1</td>\n",
       "      <td>0</td>\n",
       "      <td>0</td>\n",
       "      <td>0</td>\n",
       "      <td>0</td>\n",
       "      <td>0</td>\n",
       "      <td>0</td>\n",
       "      <td>0</td>\n",
       "      <td>0</td>\n",
       "    </tr>\n",
       "  </tbody>\n",
       "</table>\n",
       "</div>"
      ],
      "text/plain": [
       "   Age  Job Saving accounts Checking account  Credit amount  Duration  Male  \\\n",
       "0   67    2            none           little           1169         6     1   \n",
       "1   22    2          little         moderate           5951        48     0   \n",
       "2   49    1          little             none           2096        12     1   \n",
       "3   45    2          little           little           7882        42     1   \n",
       "4   53    2          little           little           4870        24     1   \n",
       "\n",
       "   Housing_own  Housing_rent  Purpose_business  Purpose_car  Purpose_domestic  \\\n",
       "0            1             0                 0            0                 0   \n",
       "1            1             0                 0            0                 0   \n",
       "2            1             0                 0            0                 1   \n",
       "3            0             0                 0            0                 0   \n",
       "4            0             0                 1            0                 0   \n",
       "\n",
       "   Purpose_education  Purpose_furniture  Purpose_radiotv  Purpose_repairs  \\\n",
       "0                  0                  1                0                0   \n",
       "1                  0                  1                0                0   \n",
       "2                  0                  0                0                0   \n",
       "3                  1                  0                0                0   \n",
       "4                  0                  0                0                0   \n",
       "\n",
       "   Purpose_vacationothers  Risk_good  \n",
       "0                       0          1  \n",
       "1                       0          0  \n",
       "2                       0          1  \n",
       "3                       0          1  \n",
       "4                       0          0  "
      ]
     },
     "execution_count": 41,
     "metadata": {},
     "output_type": "execute_result"
    }
   ],
   "source": [
    "df2['Risk_good'] = pd.get_dummies(df2['Risk'],drop_first=True)\n",
    "df2.drop('Risk',axis=1,inplace=True )\n",
    "df2.head()"
   ]
  },
  {
   "cell_type": "code",
   "execution_count": 42,
   "metadata": {
    "execution": {
     "iopub.execute_input": "2021-02-18T18:23:49.602936Z",
     "iopub.status.busy": "2021-02-18T18:23:49.602136Z",
     "iopub.status.idle": "2021-02-18T18:23:49.604818Z",
     "shell.execute_reply": "2021-02-18T18:23:49.605274Z"
    },
    "papermill": {
     "duration": 0.067199,
     "end_time": "2021-02-18T18:23:49.605445",
     "exception": false,
     "start_time": "2021-02-18T18:23:49.538246",
     "status": "completed"
    },
    "tags": []
   },
   "outputs": [],
   "source": [
    "#savings_order = [x for x in df2['Saving accounts'].unique()]\n",
    "savings_order = ['none', 'little','moderate', 'quite rich', 'rich']\n",
    "\n",
    "checking_order =['none','little','moderate','rich']\n"
   ]
  },
  {
   "cell_type": "code",
   "execution_count": 43,
   "metadata": {
    "execution": {
     "iopub.execute_input": "2021-02-18T18:23:49.731486Z",
     "iopub.status.busy": "2021-02-18T18:23:49.730793Z",
     "iopub.status.idle": "2021-02-18T18:23:49.734050Z",
     "shell.execute_reply": "2021-02-18T18:23:49.733524Z"
    },
    "papermill": {
     "duration": 0.069128,
     "end_time": "2021-02-18T18:23:49.734198",
     "exception": false,
     "start_time": "2021-02-18T18:23:49.665070",
     "status": "completed"
    },
    "tags": []
   },
   "outputs": [],
   "source": [
    "from sklearn.preprocessing import LabelEncoder\n",
    "label_encoder = LabelEncoder()"
   ]
  },
  {
   "cell_type": "code",
   "execution_count": 44,
   "metadata": {
    "execution": {
     "iopub.execute_input": "2021-02-18T18:23:49.859786Z",
     "iopub.status.busy": "2021-02-18T18:23:49.859112Z",
     "iopub.status.idle": "2021-02-18T18:23:49.862568Z",
     "shell.execute_reply": "2021-02-18T18:23:49.861904Z"
    },
    "papermill": {
     "duration": 0.068755,
     "end_time": "2021-02-18T18:23:49.862711",
     "exception": false,
     "start_time": "2021-02-18T18:23:49.793956",
     "status": "completed"
    },
    "tags": []
   },
   "outputs": [],
   "source": [
    "def ordered_labels(df,col,order):\n",
    "    df[col] = df[col].astype('category')\n",
    "    df[col] = df[col].cat.reorder_categories(order,ordered=True)\n",
    "    df[col] = df[col].cat.codes.astype(int)"
   ]
  },
  {
   "cell_type": "code",
   "execution_count": 45,
   "metadata": {
    "execution": {
     "iopub.execute_input": "2021-02-18T18:23:49.996137Z",
     "iopub.status.busy": "2021-02-18T18:23:49.995451Z",
     "iopub.status.idle": "2021-02-18T18:23:50.000532Z",
     "shell.execute_reply": "2021-02-18T18:23:50.000003Z"
    },
    "papermill": {
     "duration": 0.076556,
     "end_time": "2021-02-18T18:23:50.000711",
     "exception": false,
     "start_time": "2021-02-18T18:23:49.924155",
     "status": "completed"
    },
    "tags": []
   },
   "outputs": [],
   "source": [
    "mapings=[]\n",
    "ordered_labels(df2,'Saving accounts',savings_order)\n",
    "ordered_labels(df2,'Checking account',checking_order)\n"
   ]
  },
  {
   "cell_type": "code",
   "execution_count": 46,
   "metadata": {
    "execution": {
     "iopub.execute_input": "2021-02-18T18:23:50.137012Z",
     "iopub.status.busy": "2021-02-18T18:23:50.135914Z",
     "iopub.status.idle": "2021-02-18T18:23:50.140592Z",
     "shell.execute_reply": "2021-02-18T18:23:50.139939Z"
    },
    "papermill": {
     "duration": 0.079605,
     "end_time": "2021-02-18T18:23:50.140735",
     "exception": false,
     "start_time": "2021-02-18T18:23:50.061130",
     "status": "completed"
    },
    "tags": []
   },
   "outputs": [
    {
     "data": {
      "text/html": [
       "<div>\n",
       "<style scoped>\n",
       "    .dataframe tbody tr th:only-of-type {\n",
       "        vertical-align: middle;\n",
       "    }\n",
       "\n",
       "    .dataframe tbody tr th {\n",
       "        vertical-align: top;\n",
       "    }\n",
       "\n",
       "    .dataframe thead th {\n",
       "        text-align: right;\n",
       "    }\n",
       "</style>\n",
       "<table border=\"1\" class=\"dataframe\">\n",
       "  <thead>\n",
       "    <tr style=\"text-align: right;\">\n",
       "      <th></th>\n",
       "      <th>Age</th>\n",
       "      <th>Job</th>\n",
       "      <th>Saving accounts</th>\n",
       "      <th>Checking account</th>\n",
       "      <th>Credit amount</th>\n",
       "      <th>Duration</th>\n",
       "      <th>Male</th>\n",
       "      <th>Housing_own</th>\n",
       "      <th>Housing_rent</th>\n",
       "      <th>Purpose_business</th>\n",
       "      <th>Purpose_car</th>\n",
       "      <th>Purpose_domestic</th>\n",
       "      <th>Purpose_education</th>\n",
       "      <th>Purpose_furniture</th>\n",
       "      <th>Purpose_radiotv</th>\n",
       "      <th>Purpose_repairs</th>\n",
       "      <th>Purpose_vacationothers</th>\n",
       "      <th>Risk_good</th>\n",
       "    </tr>\n",
       "  </thead>\n",
       "  <tbody>\n",
       "    <tr>\n",
       "      <th>0</th>\n",
       "      <td>67</td>\n",
       "      <td>2</td>\n",
       "      <td>0</td>\n",
       "      <td>1</td>\n",
       "      <td>1169</td>\n",
       "      <td>6</td>\n",
       "      <td>1</td>\n",
       "      <td>1</td>\n",
       "      <td>0</td>\n",
       "      <td>0</td>\n",
       "      <td>0</td>\n",
       "      <td>0</td>\n",
       "      <td>0</td>\n",
       "      <td>1</td>\n",
       "      <td>0</td>\n",
       "      <td>0</td>\n",
       "      <td>0</td>\n",
       "      <td>1</td>\n",
       "    </tr>\n",
       "    <tr>\n",
       "      <th>1</th>\n",
       "      <td>22</td>\n",
       "      <td>2</td>\n",
       "      <td>1</td>\n",
       "      <td>2</td>\n",
       "      <td>5951</td>\n",
       "      <td>48</td>\n",
       "      <td>0</td>\n",
       "      <td>1</td>\n",
       "      <td>0</td>\n",
       "      <td>0</td>\n",
       "      <td>0</td>\n",
       "      <td>0</td>\n",
       "      <td>0</td>\n",
       "      <td>1</td>\n",
       "      <td>0</td>\n",
       "      <td>0</td>\n",
       "      <td>0</td>\n",
       "      <td>0</td>\n",
       "    </tr>\n",
       "    <tr>\n",
       "      <th>2</th>\n",
       "      <td>49</td>\n",
       "      <td>1</td>\n",
       "      <td>1</td>\n",
       "      <td>0</td>\n",
       "      <td>2096</td>\n",
       "      <td>12</td>\n",
       "      <td>1</td>\n",
       "      <td>1</td>\n",
       "      <td>0</td>\n",
       "      <td>0</td>\n",
       "      <td>0</td>\n",
       "      <td>1</td>\n",
       "      <td>0</td>\n",
       "      <td>0</td>\n",
       "      <td>0</td>\n",
       "      <td>0</td>\n",
       "      <td>0</td>\n",
       "      <td>1</td>\n",
       "    </tr>\n",
       "    <tr>\n",
       "      <th>3</th>\n",
       "      <td>45</td>\n",
       "      <td>2</td>\n",
       "      <td>1</td>\n",
       "      <td>1</td>\n",
       "      <td>7882</td>\n",
       "      <td>42</td>\n",
       "      <td>1</td>\n",
       "      <td>0</td>\n",
       "      <td>0</td>\n",
       "      <td>0</td>\n",
       "      <td>0</td>\n",
       "      <td>0</td>\n",
       "      <td>1</td>\n",
       "      <td>0</td>\n",
       "      <td>0</td>\n",
       "      <td>0</td>\n",
       "      <td>0</td>\n",
       "      <td>1</td>\n",
       "    </tr>\n",
       "    <tr>\n",
       "      <th>4</th>\n",
       "      <td>53</td>\n",
       "      <td>2</td>\n",
       "      <td>1</td>\n",
       "      <td>1</td>\n",
       "      <td>4870</td>\n",
       "      <td>24</td>\n",
       "      <td>1</td>\n",
       "      <td>0</td>\n",
       "      <td>0</td>\n",
       "      <td>1</td>\n",
       "      <td>0</td>\n",
       "      <td>0</td>\n",
       "      <td>0</td>\n",
       "      <td>0</td>\n",
       "      <td>0</td>\n",
       "      <td>0</td>\n",
       "      <td>0</td>\n",
       "      <td>0</td>\n",
       "    </tr>\n",
       "  </tbody>\n",
       "</table>\n",
       "</div>"
      ],
      "text/plain": [
       "   Age  Job  Saving accounts  Checking account  Credit amount  Duration  Male  \\\n",
       "0   67    2                0                 1           1169         6     1   \n",
       "1   22    2                1                 2           5951        48     0   \n",
       "2   49    1                1                 0           2096        12     1   \n",
       "3   45    2                1                 1           7882        42     1   \n",
       "4   53    2                1                 1           4870        24     1   \n",
       "\n",
       "   Housing_own  Housing_rent  Purpose_business  Purpose_car  Purpose_domestic  \\\n",
       "0            1             0                 0            0                 0   \n",
       "1            1             0                 0            0                 0   \n",
       "2            1             0                 0            0                 1   \n",
       "3            0             0                 0            0                 0   \n",
       "4            0             0                 1            0                 0   \n",
       "\n",
       "   Purpose_education  Purpose_furniture  Purpose_radiotv  Purpose_repairs  \\\n",
       "0                  0                  1                0                0   \n",
       "1                  0                  1                0                0   \n",
       "2                  0                  0                0                0   \n",
       "3                  1                  0                0                0   \n",
       "4                  0                  0                0                0   \n",
       "\n",
       "   Purpose_vacationothers  Risk_good  \n",
       "0                       0          1  \n",
       "1                       0          0  \n",
       "2                       0          1  \n",
       "3                       0          1  \n",
       "4                       0          0  "
      ]
     },
     "execution_count": 46,
     "metadata": {},
     "output_type": "execute_result"
    }
   ],
   "source": [
    "df2.head()"
   ]
  },
  {
   "cell_type": "code",
   "execution_count": 47,
   "metadata": {
    "execution": {
     "iopub.execute_input": "2021-02-18T18:23:50.270402Z",
     "iopub.status.busy": "2021-02-18T18:23:50.269391Z",
     "iopub.status.idle": "2021-02-18T18:23:50.285516Z",
     "shell.execute_reply": "2021-02-18T18:23:50.284833Z"
    },
    "papermill": {
     "duration": 0.084288,
     "end_time": "2021-02-18T18:23:50.285657",
     "exception": false,
     "start_time": "2021-02-18T18:23:50.201369",
     "status": "completed"
    },
    "tags": []
   },
   "outputs": [
    {
     "data": {
      "text/plain": [
       "array([[0.14285714, 1.        , 0.25      , ..., 0.        , 1.        ,\n",
       "        1.        ],\n",
       "       [0.08928571, 0.66666667, 0.        , ..., 0.        , 0.        ,\n",
       "        0.        ],\n",
       "       [0.82142857, 0.66666667, 0.        , ..., 0.        , 0.        ,\n",
       "        0.        ],\n",
       "       ...,\n",
       "       [0.19642857, 1.        , 0.25      , ..., 0.        , 0.        ,\n",
       "        0.        ],\n",
       "       [0.14285714, 0.66666667, 0.        , ..., 0.        , 0.        ,\n",
       "        0.        ],\n",
       "       [0.23214286, 0.33333333, 0.25      , ..., 0.        , 0.        ,\n",
       "        0.        ]])"
      ]
     },
     "execution_count": 47,
     "metadata": {},
     "output_type": "execute_result"
    }
   ],
   "source": [
    "X2 = df2.drop('Risk_good',axis=1)\n",
    "y2 =df2['Risk_good']\n",
    "\n",
    "X_train2,X_test2,y_train2,y_test2 = train_test_split(X2,y2,test_size=0.3)\n",
    "\n",
    "scaler2 = MinMaxScaler(feature_range = (0,1))\n",
    "\n",
    "scaler2.fit(X_train2)\n",
    "X_train2 = scaler2.transform(X_train2)\n",
    "X_test2 = scaler2.transform(X_test2)\n",
    "X_train2"
   ]
  },
  {
   "cell_type": "code",
   "execution_count": 48,
   "metadata": {
    "execution": {
     "iopub.execute_input": "2021-02-18T18:23:50.414062Z",
     "iopub.status.busy": "2021-02-18T18:23:50.413103Z",
     "iopub.status.idle": "2021-02-18T18:23:50.420940Z",
     "shell.execute_reply": "2021-02-18T18:23:50.420309Z"
    },
    "papermill": {
     "duration": 0.074085,
     "end_time": "2021-02-18T18:23:50.421088",
     "exception": false,
     "start_time": "2021-02-18T18:23:50.347003",
     "status": "completed"
    },
    "tags": []
   },
   "outputs": [
    {
     "data": {
      "text/plain": [
       "LogisticRegression(max_iter=200, solver='liblinear')"
      ]
     },
     "execution_count": 48,
     "metadata": {},
     "output_type": "execute_result"
    }
   ],
   "source": [
    "logmodel2 = LogisticRegression(solver= 'liblinear',max_iter = 200)\n",
    "logmodel2.fit(X_train2,y_train2)"
   ]
  },
  {
   "cell_type": "code",
   "execution_count": 49,
   "metadata": {
    "execution": {
     "iopub.execute_input": "2021-02-18T18:23:50.552307Z",
     "iopub.status.busy": "2021-02-18T18:23:50.551256Z",
     "iopub.status.idle": "2021-02-18T18:23:50.560978Z",
     "shell.execute_reply": "2021-02-18T18:23:50.560117Z"
    },
    "papermill": {
     "duration": 0.077339,
     "end_time": "2021-02-18T18:23:50.561183",
     "exception": false,
     "start_time": "2021-02-18T18:23:50.483844",
     "status": "completed"
    },
    "tags": []
   },
   "outputs": [
    {
     "name": "stdout",
     "output_type": "stream",
     "text": [
      "Dummy & LE var LogModel: \n",
      "               precision    recall  f1-score   support\n",
      "\n",
      "           0       0.59      0.22      0.32        90\n",
      "           1       0.74      0.93      0.82       210\n",
      "\n",
      "    accuracy                           0.72       300\n",
      "   macro avg       0.66      0.58      0.57       300\n",
      "weighted avg       0.69      0.72      0.67       300\n",
      "\n"
     ]
    }
   ],
   "source": [
    "predictions = logmodel2.predict(X_test2)\n",
    "print('Dummy & LE var LogModel: \\n',classification_report(y_test2,predictions))"
   ]
  },
  {
   "cell_type": "code",
   "execution_count": 50,
   "metadata": {
    "execution": {
     "iopub.execute_input": "2021-02-18T18:23:50.696141Z",
     "iopub.status.busy": "2021-02-18T18:23:50.690674Z",
     "iopub.status.idle": "2021-02-18T18:23:51.177125Z",
     "shell.execute_reply": "2021-02-18T18:23:51.176473Z"
    },
    "papermill": {
     "duration": 0.553436,
     "end_time": "2021-02-18T18:23:51.177263",
     "exception": false,
     "start_time": "2021-02-18T18:23:50.623827",
     "status": "completed"
    },
    "tags": []
   },
   "outputs": [
    {
     "data": {
      "text/plain": [
       "RandomForestClassifier(n_estimators=200)"
      ]
     },
     "execution_count": 50,
     "metadata": {},
     "output_type": "execute_result"
    }
   ],
   "source": [
    "rfc2 = RandomForestClassifier(n_estimators = 200)\n",
    "rfc2.fit(X_train2,y_train2)"
   ]
  },
  {
   "cell_type": "code",
   "execution_count": 51,
   "metadata": {
    "execution": {
     "iopub.execute_input": "2021-02-18T18:23:51.309057Z",
     "iopub.status.busy": "2021-02-18T18:23:51.308020Z",
     "iopub.status.idle": "2021-02-18T18:23:51.339908Z",
     "shell.execute_reply": "2021-02-18T18:23:51.339316Z"
    },
    "papermill": {
     "duration": 0.099327,
     "end_time": "2021-02-18T18:23:51.340051",
     "exception": false,
     "start_time": "2021-02-18T18:23:51.240724",
     "status": "completed"
    },
    "tags": []
   },
   "outputs": [],
   "source": [
    "preds = rfc2.predict(X_test2)"
   ]
  },
  {
   "cell_type": "code",
   "execution_count": 52,
   "metadata": {
    "execution": {
     "iopub.execute_input": "2021-02-18T18:23:51.472874Z",
     "iopub.status.busy": "2021-02-18T18:23:51.471801Z",
     "iopub.status.idle": "2021-02-18T18:23:51.480853Z",
     "shell.execute_reply": "2021-02-18T18:23:51.481436Z"
    },
    "papermill": {
     "duration": 0.078842,
     "end_time": "2021-02-18T18:23:51.481636",
     "exception": false,
     "start_time": "2021-02-18T18:23:51.402794",
     "status": "completed"
    },
    "tags": []
   },
   "outputs": [
    {
     "name": "stdout",
     "output_type": "stream",
     "text": [
      "Dummy & LE var RFC: \n",
      "               precision    recall  f1-score   support\n",
      "\n",
      "           0       0.64      0.43      0.52        90\n",
      "           1       0.79      0.90      0.84       210\n",
      "\n",
      "    accuracy                           0.76       300\n",
      "   macro avg       0.71      0.66      0.68       300\n",
      "weighted avg       0.74      0.76      0.74       300\n",
      "\n"
     ]
    }
   ],
   "source": [
    "print('Dummy & LE var RFC: \\n',classification_report(y_test2,preds))"
   ]
  },
  {
   "cell_type": "markdown",
   "metadata": {
    "papermill": {
     "duration": 0.063099,
     "end_time": "2021-02-18T18:23:51.608134",
     "exception": false,
     "start_time": "2021-02-18T18:23:51.545035",
     "status": "completed"
    },
    "tags": []
   },
   "source": [
    "# Using Grid Search, dummy and encoded variables"
   ]
  },
  {
   "cell_type": "code",
   "execution_count": 53,
   "metadata": {
    "execution": {
     "iopub.execute_input": "2021-02-18T18:23:51.740884Z",
     "iopub.status.busy": "2021-02-18T18:23:51.740187Z",
     "iopub.status.idle": "2021-02-18T18:23:51.742186Z",
     "shell.execute_reply": "2021-02-18T18:23:51.742761Z"
    },
    "papermill": {
     "duration": 0.070993,
     "end_time": "2021-02-18T18:23:51.742939",
     "exception": false,
     "start_time": "2021-02-18T18:23:51.671946",
     "status": "completed"
    },
    "tags": []
   },
   "outputs": [],
   "source": [
    "def modelEvaluate(model,X_test,y_test,model_name):\n",
    "    preds = model.predict(X_test)\n",
    "    print(model_name,classification_report(y_test,preds))"
   ]
  },
  {
   "cell_type": "code",
   "execution_count": 54,
   "metadata": {
    "execution": {
     "iopub.execute_input": "2021-02-18T18:23:51.878358Z",
     "iopub.status.busy": "2021-02-18T18:23:51.877721Z",
     "iopub.status.idle": "2021-02-18T18:23:51.881347Z",
     "shell.execute_reply": "2021-02-18T18:23:51.881849Z"
    },
    "papermill": {
     "duration": 0.075846,
     "end_time": "2021-02-18T18:23:51.882018",
     "exception": false,
     "start_time": "2021-02-18T18:23:51.806172",
     "status": "completed"
    },
    "tags": []
   },
   "outputs": [],
   "source": [
    "from sklearn.model_selection import GridSearchCV"
   ]
  },
  {
   "cell_type": "code",
   "execution_count": 55,
   "metadata": {
    "execution": {
     "iopub.execute_input": "2021-02-18T18:23:52.013592Z",
     "iopub.status.busy": "2021-02-18T18:23:52.012924Z",
     "iopub.status.idle": "2021-02-18T18:23:52.018955Z",
     "shell.execute_reply": "2021-02-18T18:23:52.018394Z"
    },
    "papermill": {
     "duration": 0.073554,
     "end_time": "2021-02-18T18:23:52.019101",
     "exception": false,
     "start_time": "2021-02-18T18:23:51.945547",
     "status": "completed"
    },
    "tags": []
   },
   "outputs": [],
   "source": [
    "parametros = {'n_estimators':[20,50,100,150,200],\n",
    "                  'criterion':['gini','entropy'],\n",
    "                  'min_samples_split':[2,3,4],\n",
    "             'max_features':[1,3,5,7,9,11,13,15]}"
   ]
  },
  {
   "cell_type": "code",
   "execution_count": 56,
   "metadata": {
    "execution": {
     "iopub.execute_input": "2021-02-18T18:23:52.154709Z",
     "iopub.status.busy": "2021-02-18T18:23:52.153814Z",
     "iopub.status.idle": "2021-02-18T18:29:45.260891Z",
     "shell.execute_reply": "2021-02-18T18:29:45.261396Z"
    },
    "papermill": {
     "duration": 353.177923,
     "end_time": "2021-02-18T18:29:45.261600",
     "exception": false,
     "start_time": "2021-02-18T18:23:52.083677",
     "status": "completed"
    },
    "tags": []
   },
   "outputs": [
    {
     "data": {
      "text/plain": [
       "GridSearchCV(cv=5, estimator=RandomForestClassifier(),\n",
       "             param_grid={'criterion': ['gini', 'entropy'],\n",
       "                         'max_features': [1, 3, 5, 7, 9, 11, 13, 15],\n",
       "                         'min_samples_split': [2, 3, 4],\n",
       "                         'n_estimators': [20, 50, 100, 150, 200]})"
      ]
     },
     "execution_count": 56,
     "metadata": {},
     "output_type": "execute_result"
    }
   ],
   "source": [
    "rfc3 = RandomForestClassifier()\n",
    "grid_search = GridSearchCV(estimator = rfc3,param_grid=parametros,cv = 5)\n",
    "grid_search.fit(X_train2, y_train2)\n"
   ]
  },
  {
   "cell_type": "code",
   "execution_count": 57,
   "metadata": {
    "execution": {
     "iopub.execute_input": "2021-02-18T18:29:45.398080Z",
     "iopub.status.busy": "2021-02-18T18:29:45.397407Z",
     "iopub.status.idle": "2021-02-18T18:29:45.400335Z",
     "shell.execute_reply": "2021-02-18T18:29:45.400896Z"
    },
    "papermill": {
     "duration": 0.074232,
     "end_time": "2021-02-18T18:29:45.401069",
     "exception": false,
     "start_time": "2021-02-18T18:29:45.326837",
     "status": "completed"
    },
    "tags": []
   },
   "outputs": [
    {
     "name": "stdout",
     "output_type": "stream",
     "text": [
      "{'criterion': 'gini', 'max_features': 9, 'min_samples_split': 3, 'n_estimators': 150}\n"
     ]
    }
   ],
   "source": [
    "melhores_param = grid_search.best_params_\n",
    "print(melhores_param)"
   ]
  },
  {
   "cell_type": "code",
   "execution_count": 58,
   "metadata": {
    "execution": {
     "iopub.execute_input": "2021-02-18T18:29:45.542069Z",
     "iopub.status.busy": "2021-02-18T18:29:45.536694Z",
     "iopub.status.idle": "2021-02-18T18:29:45.957993Z",
     "shell.execute_reply": "2021-02-18T18:29:45.957445Z"
    },
    "papermill": {
     "duration": 0.491924,
     "end_time": "2021-02-18T18:29:45.958141",
     "exception": false,
     "start_time": "2021-02-18T18:29:45.466217",
     "status": "completed"
    },
    "tags": []
   },
   "outputs": [
    {
     "data": {
      "text/plain": [
       "RandomForestClassifier(max_features=9, min_samples_split=3, n_estimators=150)"
      ]
     },
     "execution_count": 58,
     "metadata": {},
     "output_type": "execute_result"
    }
   ],
   "source": [
    "rfc3 = RandomForestClassifier(n_estimators = melhores_param['n_estimators'], criterion = melhores_param['criterion'], min_samples_split = melhores_param['min_samples_split'],max_features=melhores_param['max_features'])\n",
    "rfc3.fit(X_train2, y_train2)"
   ]
  },
  {
   "cell_type": "code",
   "execution_count": 59,
   "metadata": {
    "execution": {
     "iopub.execute_input": "2021-02-18T18:29:46.096268Z",
     "iopub.status.busy": "2021-02-18T18:29:46.095206Z",
     "iopub.status.idle": "2021-02-18T18:29:46.125019Z",
     "shell.execute_reply": "2021-02-18T18:29:46.124334Z"
    },
    "papermill": {
     "duration": 0.100751,
     "end_time": "2021-02-18T18:29:46.125164",
     "exception": false,
     "start_time": "2021-02-18T18:29:46.024413",
     "status": "completed"
    },
    "tags": []
   },
   "outputs": [
    {
     "name": "stdout",
     "output_type": "stream",
     "text": [
      "GridSearch,Dummy & LE var RFC: \n",
      "               precision    recall  f1-score   support\n",
      "\n",
      "           0       0.69      0.51      0.59        90\n",
      "           1       0.81      0.90      0.85       210\n",
      "\n",
      "    accuracy                           0.78       300\n",
      "   macro avg       0.75      0.71      0.72       300\n",
      "weighted avg       0.77      0.78      0.77       300\n",
      "\n"
     ]
    }
   ],
   "source": [
    "modelEvaluate(rfc3,X_test2,y_test2,'GridSearch,Dummy & LE var RFC: \\n')"
   ]
  },
  {
   "cell_type": "markdown",
   "metadata": {
    "papermill": {
     "duration": 0.06558,
     "end_time": "2021-02-18T18:29:46.256616",
     "exception": false,
     "start_time": "2021-02-18T18:29:46.191036",
     "status": "completed"
    },
    "tags": []
   },
   "source": [
    "# Selecting Variables and Grid Search"
   ]
  },
  {
   "cell_type": "code",
   "execution_count": 60,
   "metadata": {
    "execution": {
     "iopub.execute_input": "2021-02-18T18:29:46.395520Z",
     "iopub.status.busy": "2021-02-18T18:29:46.394651Z",
     "iopub.status.idle": "2021-02-18T18:29:48.813593Z",
     "shell.execute_reply": "2021-02-18T18:29:48.813018Z"
    },
    "papermill": {
     "duration": 2.491503,
     "end_time": "2021-02-18T18:29:48.813753",
     "exception": false,
     "start_time": "2021-02-18T18:29:46.322250",
     "status": "completed"
    },
    "tags": []
   },
   "outputs": [
    {
     "data": {
      "text/plain": [
       "<AxesSubplot:>"
      ]
     },
     "execution_count": 60,
     "metadata": {},
     "output_type": "execute_result"
    },
    {
     "data": {
      "image/png": "[encoded data removed]",
      "text/plain": [
       "<Figure size 1008x720 with 2 Axes>"
      ]
     },
     "metadata": {
      "needs_background": "light"
     },
     "output_type": "display_data"
    }
   ],
   "source": [
    "plt.figure(figsize = (14,10))\n",
    "sns.heatmap(df2.corr(),cmap='coolwarm',annot=True)"
   ]
  },
  {
   "cell_type": "code",
   "execution_count": 61,
   "metadata": {
    "execution": {
     "iopub.execute_input": "2021-02-18T18:29:48.963435Z",
     "iopub.status.busy": "2021-02-18T18:29:48.962644Z",
     "iopub.status.idle": "2021-02-18T18:29:48.965190Z",
     "shell.execute_reply": "2021-02-18T18:29:48.965873Z"
    },
    "papermill": {
     "duration": 0.080179,
     "end_time": "2021-02-18T18:29:48.966057",
     "exception": false,
     "start_time": "2021-02-18T18:29:48.885878",
     "status": "completed"
    },
    "tags": []
   },
   "outputs": [],
   "source": [
    "higher_corr = ['Age','Male','Housing_own','Housing_rent','Checking account','Credit amount','Duration','Risk_good']"
   ]
  },
  {
   "cell_type": "code",
   "execution_count": 62,
   "metadata": {
    "execution": {
     "iopub.execute_input": "2021-02-18T18:29:49.115189Z",
     "iopub.status.busy": "2021-02-18T18:29:49.114571Z",
     "iopub.status.idle": "2021-02-18T18:29:49.121323Z",
     "shell.execute_reply": "2021-02-18T18:29:49.120651Z"
    },
    "papermill": {
     "duration": 0.082321,
     "end_time": "2021-02-18T18:29:49.121481",
     "exception": false,
     "start_time": "2021-02-18T18:29:49.039160",
     "status": "completed"
    },
    "tags": []
   },
   "outputs": [],
   "source": [
    "df3 = df2[higher_corr].copy()"
   ]
  },
  {
   "cell_type": "code",
   "execution_count": 63,
   "metadata": {
    "execution": {
     "iopub.execute_input": "2021-02-18T18:29:49.285886Z",
     "iopub.status.busy": "2021-02-18T18:29:49.284920Z",
     "iopub.status.idle": "2021-02-18T18:29:49.290569Z",
     "shell.execute_reply": "2021-02-18T18:29:49.290004Z"
    },
    "papermill": {
     "duration": 0.092294,
     "end_time": "2021-02-18T18:29:49.290721",
     "exception": false,
     "start_time": "2021-02-18T18:29:49.198427",
     "status": "completed"
    },
    "tags": []
   },
   "outputs": [
    {
     "data": {
      "text/html": [
       "<div>\n",
       "<style scoped>\n",
       "    .dataframe tbody tr th:only-of-type {\n",
       "        vertical-align: middle;\n",
       "    }\n",
       "\n",
       "    .dataframe tbody tr th {\n",
       "        vertical-align: top;\n",
       "    }\n",
       "\n",
       "    .dataframe thead th {\n",
       "        text-align: right;\n",
       "    }\n",
       "</style>\n",
       "<table border=\"1\" class=\"dataframe\">\n",
       "  <thead>\n",
       "    <tr style=\"text-align: right;\">\n",
       "      <th></th>\n",
       "      <th>Age</th>\n",
       "      <th>Male</th>\n",
       "      <th>Housing_own</th>\n",
       "      <th>Housing_rent</th>\n",
       "      <th>Checking account</th>\n",
       "      <th>Credit amount</th>\n",
       "      <th>Duration</th>\n",
       "      <th>Risk_good</th>\n",
       "    </tr>\n",
       "  </thead>\n",
       "  <tbody>\n",
       "    <tr>\n",
       "      <th>0</th>\n",
       "      <td>67</td>\n",
       "      <td>1</td>\n",
       "      <td>1</td>\n",
       "      <td>0</td>\n",
       "      <td>1</td>\n",
       "      <td>1169</td>\n",
       "      <td>6</td>\n",
       "      <td>1</td>\n",
       "    </tr>\n",
       "    <tr>\n",
       "      <th>1</th>\n",
       "      <td>22</td>\n",
       "      <td>0</td>\n",
       "      <td>1</td>\n",
       "      <td>0</td>\n",
       "      <td>2</td>\n",
       "      <td>5951</td>\n",
       "      <td>48</td>\n",
       "      <td>0</td>\n",
       "    </tr>\n",
       "    <tr>\n",
       "      <th>2</th>\n",
       "      <td>49</td>\n",
       "      <td>1</td>\n",
       "      <td>1</td>\n",
       "      <td>0</td>\n",
       "      <td>0</td>\n",
       "      <td>2096</td>\n",
       "      <td>12</td>\n",
       "      <td>1</td>\n",
       "    </tr>\n",
       "    <tr>\n",
       "      <th>3</th>\n",
       "      <td>45</td>\n",
       "      <td>1</td>\n",
       "      <td>0</td>\n",
       "      <td>0</td>\n",
       "      <td>1</td>\n",
       "      <td>7882</td>\n",
       "      <td>42</td>\n",
       "      <td>1</td>\n",
       "    </tr>\n",
       "    <tr>\n",
       "      <th>4</th>\n",
       "      <td>53</td>\n",
       "      <td>1</td>\n",
       "      <td>0</td>\n",
       "      <td>0</td>\n",
       "      <td>1</td>\n",
       "      <td>4870</td>\n",
       "      <td>24</td>\n",
       "      <td>0</td>\n",
       "    </tr>\n",
       "  </tbody>\n",
       "</table>\n",
       "</div>"
      ],
      "text/plain": [
       "   Age  Male  Housing_own  Housing_rent  Checking account  Credit amount  \\\n",
       "0   67     1            1             0                 1           1169   \n",
       "1   22     0            1             0                 2           5951   \n",
       "2   49     1            1             0                 0           2096   \n",
       "3   45     1            0             0                 1           7882   \n",
       "4   53     1            0             0                 1           4870   \n",
       "\n",
       "   Duration  Risk_good  \n",
       "0         6          1  \n",
       "1        48          0  \n",
       "2        12          1  \n",
       "3        42          1  \n",
       "4        24          0  "
      ]
     },
     "execution_count": 63,
     "metadata": {},
     "output_type": "execute_result"
    }
   ],
   "source": [
    "df3.head()"
   ]
  },
  {
   "cell_type": "code",
   "execution_count": 64,
   "metadata": {
    "execution": {
     "iopub.execute_input": "2021-02-18T18:29:49.442392Z",
     "iopub.status.busy": "2021-02-18T18:29:49.441669Z",
     "iopub.status.idle": "2021-02-18T18:29:49.460735Z",
     "shell.execute_reply": "2021-02-18T18:29:49.459960Z"
    },
    "papermill": {
     "duration": 0.096077,
     "end_time": "2021-02-18T18:29:49.460891",
     "exception": false,
     "start_time": "2021-02-18T18:29:49.364814",
     "status": "completed"
    },
    "tags": []
   },
   "outputs": [
    {
     "data": {
      "text/plain": [
       "array([[0.07142857, 0.        , 1.        , ..., 0.66666667, 0.18284362,\n",
       "        0.14285714],\n",
       "       [0.16071429, 0.        , 0.        , ..., 0.66666667, 0.2125564 ,\n",
       "        0.35714286],\n",
       "       [0.25      , 0.        , 0.        , ..., 0.        , 0.10652581,\n",
       "        0.19642857],\n",
       "       ...,\n",
       "       [0.125     , 0.        , 0.        , ..., 0.66666667, 0.08407615,\n",
       "        0.19642857],\n",
       "       [0.17857143, 1.        , 0.        , ..., 0.66666667, 0.48332783,\n",
       "        0.57142857],\n",
       "       [0.21428571, 1.        , 1.        , ..., 0.        , 0.11863101,\n",
       "        0.08928571]])"
      ]
     },
     "execution_count": 64,
     "metadata": {},
     "output_type": "execute_result"
    }
   ],
   "source": [
    "X3 = df3.drop('Risk_good',axis=1)\n",
    "y3 =df3['Risk_good']\n",
    "\n",
    "X_train3,X_test3,y_train3,y_test3 = train_test_split(X3,y3,test_size=0.3)\n",
    "\n",
    "scaler3 = MinMaxScaler(feature_range = (0,1))\n",
    "\n",
    "scaler3.fit(X_train3)\n",
    "X_train3 = scaler3.transform(X_train3)\n",
    "X_test3 = scaler3.transform(X_test3)\n",
    "X_train3"
   ]
  },
  {
   "cell_type": "code",
   "execution_count": 65,
   "metadata": {
    "execution": {
     "iopub.execute_input": "2021-02-18T18:29:49.617953Z",
     "iopub.status.busy": "2021-02-18T18:29:49.617282Z",
     "iopub.status.idle": "2021-02-18T18:29:49.620473Z",
     "shell.execute_reply": "2021-02-18T18:29:49.621008Z"
    },
    "papermill": {
     "duration": 0.084419,
     "end_time": "2021-02-18T18:29:49.621185",
     "exception": false,
     "start_time": "2021-02-18T18:29:49.536766",
     "status": "completed"
    },
    "tags": []
   },
   "outputs": [],
   "source": [
    "parametros = {'n_estimators':[20,50,100,150,200],\n",
    "                  'criterion':['gini','entropy'],\n",
    "                  'min_samples_split':[2,3,4],\n",
    "             'max_features':[1,2,3,4]}"
   ]
  },
  {
   "cell_type": "code",
   "execution_count": 66,
   "metadata": {
    "execution": {
     "iopub.execute_input": "2021-02-18T18:29:49.777189Z",
     "iopub.status.busy": "2021-02-18T18:29:49.776483Z",
     "iopub.status.idle": "2021-02-18T18:32:28.257844Z",
     "shell.execute_reply": "2021-02-18T18:32:28.258355Z"
    },
    "papermill": {
     "duration": 158.564255,
     "end_time": "2021-02-18T18:32:28.258573",
     "exception": false,
     "start_time": "2021-02-18T18:29:49.694318",
     "status": "completed"
    },
    "tags": []
   },
   "outputs": [
    {
     "name": "stdout",
     "output_type": "stream",
     "text": [
      "{'criterion': 'gini', 'max_features': 3, 'min_samples_split': 3, 'n_estimators': 200}\n"
     ]
    },
    {
     "data": {
      "text/plain": [
       "RandomForestClassifier(max_features=3, min_samples_split=3, n_estimators=200)"
      ]
     },
     "execution_count": 66,
     "metadata": {},
     "output_type": "execute_result"
    }
   ],
   "source": [
    "rfc4 = RandomForestClassifier()\n",
    "grid_search = GridSearchCV(estimator = rfc4,param_grid=parametros,cv = 5)\n",
    "grid_search.fit(X_train3, y_train3)\n",
    "melhores_param = grid_search.best_params_\n",
    "print(melhores_param)\n",
    "rfc4 = RandomForestClassifier(n_estimators = melhores_param['n_estimators'], criterion = melhores_param['criterion'], min_samples_split = melhores_param['min_samples_split'],max_features=melhores_param['max_features'])\n",
    "rfc4.fit(X_train3, y_train3)"
   ]
  },
  {
   "cell_type": "code",
   "execution_count": 67,
   "metadata": {
    "execution": {
     "iopub.execute_input": "2021-02-18T18:32:28.413621Z",
     "iopub.status.busy": "2021-02-18T18:32:28.412859Z",
     "iopub.status.idle": "2021-02-18T18:32:28.451092Z",
     "shell.execute_reply": "2021-02-18T18:32:28.451937Z"
    },
    "papermill": {
     "duration": 0.117152,
     "end_time": "2021-02-18T18:32:28.452234",
     "exception": false,
     "start_time": "2021-02-18T18:32:28.335082",
     "status": "completed"
    },
    "tags": []
   },
   "outputs": [
    {
     "name": "stdout",
     "output_type": "stream",
     "text": [
      "GridSearch,Dummy & LE selected Car RFC: \n",
      "               precision    recall  f1-score   support\n",
      "\n",
      "           0       0.51      0.40      0.45        88\n",
      "           1       0.77      0.84      0.81       212\n",
      "\n",
      "    accuracy                           0.71       300\n",
      "   macro avg       0.64      0.62      0.63       300\n",
      "weighted avg       0.70      0.71      0.70       300\n",
      "\n"
     ]
    }
   ],
   "source": [
    "modelEvaluate(rfc4,X_test3,y_test3,'GridSearch,Dummy & LE selected Car RFC: \\n')"
   ]
  },
  {
   "cell_type": "code",
   "execution_count": null,
   "metadata": {
    "papermill": {
     "duration": 0.075661,
     "end_time": "2021-02-18T18:32:28.603896",
     "exception": false,
     "start_time": "2021-02-18T18:32:28.528235",
     "status": "completed"
    },
    "tags": []
   },
   "outputs": [],
   "source": []
  }
 ],
 "metadata": {
  "kernelspec": {
   "display_name": "Python 3",
   "language": "python",
   "name": "python3"
  },
  "language_info": {
   "codemirror_mode": {
    "name": "ipython",
    "version": 3
   },
   "file_extension": ".py",
   "mimetype": "text/x-python",
   "name": "python",
   "nbconvert_exporter": "python",
   "pygments_lexer": "ipython3",
   "version": "3.7.9"
  },
  "papermill": {
   "default_parameters": {},
   "duration": 534.132947,
   "end_time": "2021-02-18T18:32:29.390177",
   "environment_variables": {},
   "exception": null,
   "input_path": "__notebook__.ipynb",
   "output_path": "__notebook__.ipynb",
   "parameters": {},
   "start_time": "2021-02-18T18:23:35.257230",
   "version": "2.2.2"
  }
 },
 "nbformat": 4,
 "nbformat_minor": 4
}
